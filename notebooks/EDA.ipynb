{
 "cells": [
  {
   "cell_type": "code",
   "execution_count": 1,
   "metadata": {},
   "outputs": [
    {
     "name": "stderr",
     "output_type": "stream",
     "text": [
      "Matplotlib created a temporary config/cache directory at /tmp/matplotlib-byiggk38 because the default path (/home/guest/r11922a05/.cache/matplotlib) is not a writable directory; it is highly recommended to set the MPLCONFIGDIR environment variable to a writable directory, in particular to speed up the import of Matplotlib and to better support multiprocessing.\n"
     ]
    },
    {
     "ename": "ImportError",
     "evalue": "attempted relative import with no known parent package",
     "output_type": "error",
     "traceback": [
      "\u001b[0;31m---------------------------------------------------------------------------\u001b[0m",
      "\u001b[0;31mImportError\u001b[0m                               Traceback (most recent call last)",
      "Cell \u001b[0;32mIn [1], line 10\u001b[0m\n\u001b[1;32m      7\u001b[0m \u001b[39mimport\u001b[39;00m \u001b[39mpandas\u001b[39;00m \u001b[39mas\u001b[39;00m \u001b[39mpd\u001b[39;00m\n\u001b[1;32m      8\u001b[0m \u001b[39mimport\u001b[39;00m \u001b[39mmatplotlib\u001b[39;00m\u001b[39m.\u001b[39;00m\u001b[39mpyplot\u001b[39;00m \u001b[39mas\u001b[39;00m \u001b[39mplt\u001b[39;00m\n\u001b[0;32m---> 10\u001b[0m \u001b[39mfrom\u001b[39;00m \u001b[39m.\u001b[39;00m\u001b[39m.\u001b[39;00m\u001b[39mlogistic_regression\u001b[39;00m\u001b[39m.\u001b[39;00m\u001b[39mtraditional_method\u001b[39;00m\u001b[39m.\u001b[39;00m\u001b[39mpreprocess\u001b[39;00m \u001b[39mimport\u001b[39;00m make_multiple_hard_labels\n",
      "\u001b[0;31mImportError\u001b[0m: attempted relative import with no known parent package"
     ]
    }
   ],
   "source": [
    "import os\n",
    "import math\n",
    "import json\n",
    "from pathlib import Path\n",
    "\n",
    "import numpy as np\n",
    "import pandas as pd\n",
    "import matplotlib.pyplot as plt\n",
    "\n",
    "from ..logistic_regression.traditional_method.preprocess import make_multiple_hard_labels"
   ]
  },
  {
   "cell_type": "code",
   "execution_count": 2,
   "metadata": {},
   "outputs": [],
   "source": [
    "DATA_ROOT = os.path.join(\n",
    "    Path(os.getcwd()).parent.absolute(), 'hahow', 'data'\n",
    ")\n",
    "\n",
    "user_csv_path = os.path.join(DATA_ROOT, 'users.csv')\n",
    "course_chapter_item_csv_path = os.path.join(DATA_ROOT, 'course_chapter_items.csv')\n",
    "courses_csv_path = os.path.join(DATA_ROOT, 'courses.csv')\n",
    "subgroup_csv_path = os.path.join(DATA_ROOT, 'subgroups.csv')\n",
    "train_group_csv_path = os.path.join(DATA_ROOT, 'train', 'train_group.csv')\n",
    "train_csv_path = os.path.join(DATA_ROOT, 'train', 'train.csv')"
   ]
  },
  {
   "cell_type": "code",
   "execution_count": 3,
   "metadata": {},
   "outputs": [],
   "source": [
    "user_df = pd.read_csv(user_csv_path)\n",
    "course_chapter_item_df = pd.read_csv(course_chapter_item_csv_path)\n",
    "courses_df = pd.read_csv(courses_csv_path)\n",
    "subgroup_df = pd.read_csv(subgroup_csv_path)\n",
    "train_group_df = pd.read_csv(train_group_csv_path)\n",
    "train_df = pd.read_csv(train_csv_path)"
   ]
  },
  {
   "cell_type": "markdown",
   "metadata": {},
   "source": [
    "# Idea\n",
    "- Unseen代表user沒有在`train.csv`或`train_group.csv`中出現，但還是有user profile\n",
    "- `course_chapter_item.csv`\n",
    "    - 把每一個章節的video_length_in_seconds合併起來成一個course的長度\n",
    "    - 把每一個course所有的chapterm_name和chapter_item_name的全部concat丟到一個Encoder變成Embedding\n",
    "- `courses.csv` 重要的資料\n",
    "    - Group 1 (一進去網站會看到的)\n",
    "        - `course_name`\n",
    "        - `course_price`\n",
    "    - Group 2 (點進去課程的前段到中段)\n",
    "        - `will_learn`\n",
    "        - `desciption`\n",
    "        - `required_tools`\n",
    "        - `recommended_background`\n",
    "        - `target_group`\n",
    "    - Group 3 (要拉到很下面才會看到)\n",
    "        - `teacher_id`:\n",
    "        - `teacher_intro`\n",
    "    - ?\n",
    "        - `course_published_at_local`: 時間越長大家越不想買？或是課程早就沉到下面去了？\n",
    "- Model\n",
    "    - target_group and user interests compute similarity -> calculate which course the user will buy"
   ]
  },
  {
   "cell_type": "code",
   "execution_count": 10,
   "metadata": {},
   "outputs": [
    {
     "data": {
      "text/plain": [
       "(0.34614677634299895,\n",
       " 0.7774612073587305,\n",
       " 0.36617496132224314,\n",
       " 0.755411056477184)"
      ]
     },
     "execution_count": 10,
     "metadata": {},
     "output_type": "execute_result"
    }
   ],
   "source": [
    "user_df['gender'].isna().sum() / user_df.shape[0], \\\n",
    "user_df['occupation_titles'].isna().sum() / user_df.shape[0], \\\n",
    "user_df['interests'].isna().sum() / user_df.shape[0], \\\n",
    "user_df['recreation_names'].isna().sum() / user_df.shape[0]"
   ]
  },
  {
   "cell_type": "markdown",
   "metadata": {},
   "source": [
    "# User\n",
    "- `user_id`: id for identifying each user\n",
    "- `gender`: # of category = 3, [female, male, other]\n",
    "- `occupation_titles`: a user could have **several** occupations, there are a total of **20** occupations\n",
    "- `interests`: a user could have **serveral** interests, interests could be divided into main interest and subinterest (e.g. mainInterest_subInterest = 語言_英文)\n",
    "    - main interest: 12 categories\n",
    "    - sub interest: 95 categories\n",
    "    - see `sub_int_cnt` variable for {main_interest:sub_interest} mapping\n",
    "- `recreation_names`: a user could have **several** recreations, there are a total of **31** recreations"
   ]
  },
  {
   "cell_type": "code",
   "execution_count": 10,
   "metadata": {},
   "outputs": [
    {
     "data": {
      "text/plain": [
       "(Index(['user_id', 'gender', 'occupation_titles', 'interests',\n",
       "        'recreation_names'],\n",
       "       dtype='object'),\n",
       " (130566, 5),\n",
       "                     user_id  gender      occupation_titles  \\\n",
       " 0  54ccaa73a784960a00948687  female                    NaN   \n",
       " 1  54dca4456d7d350900e86bae    male                    NaN   \n",
       " 2  54e421bac5c9c00900cd8d47  female                    NaN   \n",
       " 3  54e961d4c5c9c00900cd8d84   other                    金融業   \n",
       " 4  54e9b744c5c9c00900cd8d8a   other  資訊科技,法律、社會及文化專業,非營利組織   \n",
       " 5  54eac49bc5c9c00900cd8d95    male                    NaN   \n",
       " 6  54ef3499b839040f0001607d    male                    NaN   \n",
       " 7  54ef34e2b839040f00016086  female                    NaN   \n",
       " 8  54ef354db839040f0001608b   other               藝文設計,自由業   \n",
       " 9  54ef3574b839040f0001608f  female           藝文設計,出版業,自由業   \n",
       " \n",
       "                                            interests     recreation_names  \n",
       " 0  職場技能_創業,藝術_電腦繪圖,設計_介面設計,設計_動態設計,設計_平面設計,投資理財_投...                  NaN  \n",
       " 1  設計_動態設計,設計_平面設計,設計_應用設計,程式_程式入門,程式_程式語言,藝術_角色設...                  NaN  \n",
       " 2  設計_平面設計,職場技能_資料彙整,藝術_繪畫與插畫,行銷_數位行銷,職場技能_文書處理,職...                  NaN  \n",
       " 3  投資理財_理財,攝影_影像創作,投資理財_投資觀念,藝術_更多藝術,音樂_樂器,投資理財_金...                  NaN  \n",
       " 4  程式_網頁前端,投資理財_理財,投資理財_投資觀念,程式_程式語言,設計_設計理論,投資理財...     政治經濟,社會服務,舞台劇,電影  \n",
       " 5                    行銷_文案,投資理財_理財,投資理財_投資觀念,行銷_數位行銷                  NaN  \n",
       " 6   攝影_商業攝影,設計_平面設計,藝術_電腦繪圖,攝影_影像創作,藝術_角色設計,藝術_繪畫與插畫  插畫,桌遊,棋類遊戲,素描,電影,電玩  \n",
       " 7              職場技能_職場溝通,職場技能_資料彙整,行銷_數位行銷,職場技能_文書處理                  NaN  \n",
       " 8              音樂_人聲,藝術_電腦繪圖,音樂_音樂創作,程式_遊戲開發,藝術_字體設計      狗派,運動健身,電玩,電腦繪圖  \n",
       " 9  職場技能_創業,職場技能_求職,職場技能_效率提升,程式_程式入門,職場技能_職場溝通,程式...           插畫,素描,電腦繪圖  )"
      ]
     },
     "execution_count": 10,
     "metadata": {},
     "output_type": "execute_result"
    }
   ],
   "source": [
    "user_df.columns, user_df.shape, user_df.head(10)"
   ]
  },
  {
   "cell_type": "code",
   "execution_count": 13,
   "metadata": {},
   "outputs": [
    {
     "data": {
      "text/plain": [
       "(130566, 130566)"
      ]
     },
     "execution_count": 13,
     "metadata": {},
     "output_type": "execute_result"
    }
   ],
   "source": [
    "unique_user = user_df['user_id'].unique()\n",
    "len(unique_user), user_df.shape[0]\n",
    "# No repeated user"
   ]
  },
  {
   "cell_type": "code",
   "execution_count": 18,
   "metadata": {},
   "outputs": [
    {
     "name": "stdout",
     "output_type": "stream",
     "text": [
      "Column name: gender\n",
      "female    0.415905\n",
      "male      0.225794\n",
      "other     0.012155\n",
      "Name: gender, dtype: float64\n",
      "====================\n",
      "Column name: occupation_titles\n",
      "其他                    0.018818\n",
      "服務業                   0.017171\n",
      "資訊科技                  0.015908\n",
      "製造業                   0.013296\n",
      "藝文設計                  0.011190\n",
      "                        ...   \n",
      "公務人員,法律、社會及文化專業,退休    0.000008\n",
      "資訊科技,退休               0.000008\n",
      "製造業,非營利組織,其他          0.000008\n",
      "出版業,金融業,服務業           0.000008\n",
      "金融業,家管,醫療             0.000008\n",
      "Name: occupation_titles, Length: 851, dtype: float64\n",
      "====================\n",
      "Column name: interests\n",
      "生活品味_烹飪料理與甜點                                                                                     0.005775\n",
      "語言_英文                                                                                            0.005093\n",
      "藝術_繪畫與插畫                                                                                         0.003914\n",
      "語言_日文                                                                                            0.003301\n",
      "手作_更多手作                                                                                          0.003071\n",
      "                                                                                                   ...   \n",
      "人文_更多人文,投資理財_量化交易,職場技能_創業,行銷_文案,行銷_社群行銷,生活品味_親子教育,職場技能_個人品牌經營,設計_更多設計,投資理財_理財,攝影_後製剪輯,行銷_數位行銷    0.000008\n",
      "程式_網站架設,程式_網頁前端,設計_網頁設計,音樂_音樂創作                                                                  0.000008\n",
      "生活品味_壓力舒緩,人文_社會科學,職場技能_職場溝通,攝影_攝影理論,職場技能_效率提升,職場技能_資料彙整,生活品味_心靈成長與教育                             0.000008\n",
      "行銷_社群行銷,攝影_商業攝影,攝影_影像創作,攝影_後製剪輯,行銷_數位行銷                                                          0.000008\n",
      "音樂_人聲,藝術_手寫字,藝術_色彩學,藝術_電腦繪圖,生活品味_靈性發展,藝術_素描,生活品味_壓力舒緩,音樂_音樂創作                                    0.000008\n",
      "Name: interests, Length: 63960, dtype: float64\n",
      "====================\n",
      "Column name: recreation_names\n",
      "旅行旅遊                                                     0.005262\n",
      "運動健身                                                     0.002390\n",
      "金融理財                                                     0.002259\n",
      "旅行旅遊,運動健身                                                0.001968\n",
      "閱讀                                                       0.001371\n",
      "                                                           ...   \n",
      "占卜,手寫字,桌遊,貓派,電影,電玩,電腦繪圖                                  0.000008\n",
      "手遊,水彩,素描,美容妝髮,電玩                                         0.000008\n",
      "區塊鏈,政治經濟,旅行旅遊,桌遊,瑜珈,社會服務,舞台劇,運動健身,運動賽事,金融理財,閱讀,電影,電視劇    0.000008\n",
      "手遊,政治經濟,旅行旅遊,桌遊,狗派,社會服務,貓派,運動健身,金融理財,閱讀                  0.000008\n",
      "瑜珈,舞蹈,貓派                                                 0.000008\n",
      "Name: recreation_names, Length: 19884, dtype: float64\n",
      "====================\n"
     ]
    }
   ],
   "source": [
    "for col in user_df.columns:\n",
    "    if col != 'user_id':\n",
    "        category_ratio = user_df[col].value_counts() / user_df.shape[0]\n",
    "        print(f\"Column name: {col}\")\n",
    "        print(category_ratio)\n",
    "        print(\"=\"*20)"
   ]
  },
  {
   "cell_type": "code",
   "execution_count": 8,
   "metadata": {},
   "outputs": [
    {
     "data": {
      "text/plain": [
       "20"
      ]
     },
     "execution_count": 8,
     "metadata": {},
     "output_type": "execute_result"
    }
   ],
   "source": [
    "occu_set = set()\n",
    "for occu in user_df['occupation_titles']:\n",
    "    if type(occu) == str:\n",
    "        if ',' in occu:\n",
    "            occu_split = occu.split(',')\n",
    "            occu_set.update(occu_split)\n",
    "        else:\n",
    "            occu_set.update([occu])\n",
    "len(occu_set)\n"
   ]
  },
  {
   "cell_type": "code",
   "execution_count": 32,
   "metadata": {},
   "outputs": [],
   "source": [
    "main_int_set = set()\n",
    "sub_int_set = set()\n",
    "main_sub_dict = dict()\n",
    "\n",
    "for interest in user_df['interests']:\n",
    "    if type(interest) == str:\n",
    "        # user has several interests\n",
    "        if ',' in interest:\n",
    "            int_split = interest.split(',')\n",
    "            for int_ in int_split:\n",
    "                main_int = int_.split('_')[0]\n",
    "                sub_int = int_.split('_')[1]\n",
    "                main_int_set.update([main_int])\n",
    "                sub_int_set.update([sub_int])\n",
    "\n",
    "                if main_int not in main_sub_dict.keys():\n",
    "                    main_sub_dict[main_int] = set([sub_int])\n",
    "                else:\n",
    "                    main_sub_dict[main_int].update([sub_int])\n",
    "        # user have only one interest\n",
    "        else:\n",
    "            main_int = interest.split('_')[0]\n",
    "            sub_int = interest.split('_')[1]\n",
    "            main_int_set.update([main_int])\n",
    "            sub_int_set.update([sub_int])\n",
    "\n",
    "            if main_int not in main_sub_dict.keys():\n",
    "                main_sub_dict[main_int] = set([sub_int])\n",
    "            else:\n",
    "                main_sub_dict[main_int].update([sub_int])"
   ]
  },
  {
   "cell_type": "code",
   "execution_count": 30,
   "metadata": {},
   "outputs": [
    {
     "data": {
      "text/plain": [
       "(12,\n",
       " {'人文',\n",
       "  '手作',\n",
       "  '投資理財',\n",
       "  '攝影',\n",
       "  '生活品味',\n",
       "  '程式',\n",
       "  '職場技能',\n",
       "  '藝術',\n",
       "  '行銷',\n",
       "  '設計',\n",
       "  '語言',\n",
       "  '音樂'})"
      ]
     },
     "execution_count": 30,
     "metadata": {},
     "output_type": "execute_result"
    }
   ],
   "source": [
    "len(main_int_set), main_int_set"
   ]
  },
  {
   "cell_type": "code",
   "execution_count": 31,
   "metadata": {},
   "outputs": [
    {
     "data": {
      "text/plain": [
       "(95,\n",
       " {'AI 人工智慧',\n",
       "  'DJ',\n",
       "  '人聲',\n",
       "  '介面設計',\n",
       "  '個人品牌經營',\n",
       "  '刺繡',\n",
       "  '創業',\n",
       "  '動態攝影',\n",
       "  '動態設計',\n",
       "  '區塊鏈',\n",
       "  '商業攝影',\n",
       "  '壓力舒緩',\n",
       "  '字體設計',\n",
       "  '寵物',\n",
       "  '居家',\n",
       "  '平面設計',\n",
       "  '影像創作',\n",
       "  '影視創作',\n",
       "  '後製剪輯',\n",
       "  '心靈成長與教育',\n",
       "  '應用設計',\n",
       "  '手作小物',\n",
       "  '手寫字',\n",
       "  '手工印刷',\n",
       "  '手工書',\n",
       "  '手機程式開發',\n",
       "  '投資觀念',\n",
       "  '攝影理論',\n",
       "  '效率提升',\n",
       "  '數位行銷',\n",
       "  '數學',\n",
       "  '數據分析',\n",
       "  '文學',\n",
       "  '文書處理',\n",
       "  '文案',\n",
       "  '日文',\n",
       "  '更多人文',\n",
       "  '更多手作',\n",
       "  '更多投資理財',\n",
       "  '更多攝影',\n",
       "  '更多生活品味',\n",
       "  '更多程式',\n",
       "  '更多職場技能',\n",
       "  '更多藝術',\n",
       "  '更多行銷',\n",
       "  '更多設計',\n",
       "  '更多語言',\n",
       "  '更多音樂',\n",
       "  '樂器',\n",
       "  '模型',\n",
       "  '歐洲語言',\n",
       "  '比特幣',\n",
       "  '氣球',\n",
       "  '求職',\n",
       "  '烹飪料理與甜點',\n",
       "  '獨立接案',\n",
       "  '理財',\n",
       "  '產品設計',\n",
       "  '社會科學',\n",
       "  '社群行銷',\n",
       "  '程式入門',\n",
       "  '程式思維',\n",
       "  '程式理財',\n",
       "  '程式語言',\n",
       "  '篆刻',\n",
       "  '素描',\n",
       "  '網站架設',\n",
       "  '網頁前端',\n",
       "  '網頁後端',\n",
       "  '網頁設計',\n",
       "  '繪畫與插畫',\n",
       "  '翻譯',\n",
       "  '職場溝通',\n",
       "  '色彩學',\n",
       "  '英文',\n",
       "  '表演藝術',\n",
       "  '西班牙文',\n",
       "  '親子教育',\n",
       "  '角色設計',\n",
       "  '設計理論',\n",
       "  '護膚保養與化妝',\n",
       "  '資料彙整',\n",
       "  '資料科學',\n",
       "  '資訊安全',\n",
       "  '軟體程式開發與維護',\n",
       "  '遊戲開發',\n",
       "  '運動',\n",
       "  '量化交易',\n",
       "  '量化分析',\n",
       "  '金融商品',\n",
       "  '電腦繪圖',\n",
       "  '靈性發展',\n",
       "  '韓文',\n",
       "  '音樂創作',\n",
       "  '音樂理論'})"
      ]
     },
     "execution_count": 31,
     "metadata": {},
     "output_type": "execute_result"
    }
   ],
   "source": [
    "len(sub_int_set), sub_int_set"
   ]
  },
  {
   "cell_type": "code",
   "execution_count": 33,
   "metadata": {},
   "outputs": [
    {
     "name": "stdout",
     "output_type": "stream",
     "text": [
      "職場技能 10\n",
      "藝術 9\n",
      "設計 7\n",
      "投資理財 6\n",
      "行銷 5\n",
      "程式 16\n",
      "音樂 6\n",
      "攝影 7\n",
      "語言 7\n",
      "生活品味 11\n",
      "手作 8\n",
      "人文 3\n"
     ]
    },
    {
     "data": {
      "text/plain": [
       "95"
      ]
     },
     "execution_count": 33,
     "metadata": {},
     "output_type": "execute_result"
    }
   ],
   "source": [
    "sub_int_cnt = 0\n",
    "for main_int, sub_int in main_sub_dict.items():\n",
    "    sub_int_cnt += len(sub_int)\n",
    "    print(main_int, len(sub_int))\n",
    "sub_int_cnt"
   ]
  },
  {
   "cell_type": "code",
   "execution_count": 36,
   "metadata": {},
   "outputs": [
    {
     "data": {
      "text/plain": [
       "(31,\n",
       " {'區塊鏈',\n",
       "  '占卜',\n",
       "  '寫作',\n",
       "  '手作',\n",
       "  '手寫字',\n",
       "  '手遊',\n",
       "  '插畫',\n",
       "  '插花',\n",
       "  '政治經濟',\n",
       "  '旅行旅遊',\n",
       "  '書法',\n",
       "  '桌遊',\n",
       "  '棋類遊戲',\n",
       "  '水彩',\n",
       "  '狗派',\n",
       "  '瑜珈',\n",
       "  '社會服務',\n",
       "  '素描',\n",
       "  '美容妝髮',\n",
       "  '舞台劇',\n",
       "  '舞蹈',\n",
       "  '貓派',\n",
       "  '速寫',\n",
       "  '運動健身',\n",
       "  '運動賽事',\n",
       "  '金融理財',\n",
       "  '閱讀',\n",
       "  '電影',\n",
       "  '電玩',\n",
       "  '電腦繪圖',\n",
       "  '電視劇'})"
      ]
     },
     "execution_count": 36,
     "metadata": {},
     "output_type": "execute_result"
    }
   ],
   "source": [
    "rec_set = set()\n",
    "for rec in user_df['recreation_names']:\n",
    "    if type(rec) == str:\n",
    "        if ',' in rec:\n",
    "            rec_split = rec.split(',')\n",
    "            rec_set.update(rec_split)\n",
    "        else:\n",
    "            rec_set.update([rec])\n",
    "len(rec_set), rec_set"
   ]
  },
  {
   "cell_type": "markdown",
   "metadata": {},
   "source": [
    "# Course Chapter Item\n",
    "(group-subgroup-subsubgroup)\n",
    "- `course_id`: id to identify each course\n",
    "- `chapter_no`: number to identify a chapter in a course (a course could have several chapters)\n",
    "- `chapter_id`: unique id to identify chapter in each course\n",
    "- `chapter_name`: name of the chapter (not really important?)\n",
    "    - may contain features to attract user\n",
    "- `chapter_item_id`: unique id to identify a item in a chapter\n",
    "- `chapter_item_name`: name of the item (not really important?)\n",
    "- `chapter_item_type`: type of an item, has only two categories [LECTURE, ASSIGNMENT]\n",
    "    - useless?\n",
    "- `video_length_in_seconds`: the length of video in each **item**\n",
    "    - the total length of a `course` may affect the willingness of an user to by this course"
   ]
  },
  {
   "cell_type": "code",
   "execution_count": 8,
   "metadata": {},
   "outputs": [
    {
     "data": {
      "text/plain": [
       "(Index(['course_id', 'chapter_no', 'chapter_id', 'chapter_name',\n",
       "        'chapter_item_id', 'chapter_item_no', 'chapter_item_name',\n",
       "        'chapter_item_type', 'video_length_in_seconds'],\n",
       "       dtype='object'),\n",
       " (21290, 9),\n",
       "                   course_id  chapter_no                chapter_id  \\\n",
       " 0  54d5a117065a7e0e00725ac0           1  5c91835bed65c200740eefda   \n",
       " 1  54d5a117065a7e0e00725ac0           1  5c91835bed65c200740eefda   \n",
       " 2  54d5a117065a7e0e00725ac0           1  5c91835bed65c200740eefda   \n",
       " 3  54d5a117065a7e0e00725ac0           1  5c91835bed65c200740eefda   \n",
       " 4  54d5d9952246e60a009ec571           1  5c91835bed65c200740eefdb   \n",
       " \n",
       "   chapter_name           chapter_item_id  chapter_item_no chapter_item_name  \\\n",
       " 0      本課程不分章節  5a1e172da2c4b000589dc7f2                1               拉曲線   \n",
       " 1      本課程不分章節  5a1e172da2c4b000589dc7f3                2              分割工具   \n",
       " 2      本課程不分章節  5a1e172da2c4b000589dc7f4                3           油漆桶上色工具   \n",
       " 3      本課程不分章節  5a1e172da2c4b000589dc7f5                4     幾何圖形分割 X 色塊組合   \n",
       " 4      本課程不分章節  5a1e1704a2c4b000589dae2a                1              作品範例   \n",
       " \n",
       "   chapter_item_type  video_length_in_seconds  \n",
       " 0           LECTURE                    578.0  \n",
       " 1           LECTURE                    479.0  \n",
       " 2           LECTURE                    726.0  \n",
       " 3        ASSIGNMENT                     56.0  \n",
       " 4           LECTURE                    165.0  )"
      ]
     },
     "execution_count": 8,
     "metadata": {},
     "output_type": "execute_result"
    }
   ],
   "source": [
    "course_chapter_item_df.columns, \\\n",
    "    course_chapter_item_df.shape, \\\n",
    "        course_chapter_item_df.head()"
   ]
  },
  {
   "cell_type": "code",
   "execution_count": 11,
   "metadata": {},
   "outputs": [
    {
     "name": "stdout",
     "output_type": "stream",
     "text": [
      "There are a total of 727 courses\n"
     ]
    }
   ],
   "source": [
    "unique_course = course_chapter_item_df['course_id'].unique()\n",
    "len_uni_cour = len(unique_course)\n",
    "print(f\"There are a total of {len_uni_cour} courses\")"
   ]
  },
  {
   "cell_type": "code",
   "execution_count": 20,
   "metadata": {},
   "outputs": [
    {
     "data": {
      "text/plain": [
       "本課程不分章節               5862\n",
       "此課程無章節                  78\n",
       "課程內容                    53\n",
       "YouTuber 的 36 堂課        45\n",
       "基礎知識篇                   42\n",
       "                      ... \n",
       "原油引言                     1\n",
       "  黃金引言                   1\n",
       "破解！網友與彩妝師公認的『上妝困擾』       1\n",
       "大播客時代來了                  1\n",
       "特別章節                     1\n",
       "Name: chapter_name, Length: 2702, dtype: int64"
      ]
     },
     "execution_count": 20,
     "metadata": {},
     "output_type": "execute_result"
    }
   ],
   "source": [
    "course_chapter_item_df['chapter_name'].value_counts()"
   ]
  },
  {
   "cell_type": "code",
   "execution_count": 24,
   "metadata": {},
   "outputs": [
    {
     "data": {
      "text/plain": [
       "開啟說話雷達，面試前你應該要知道的事！                  1\n",
       "嘻哈歌曲如何算拍子、Extended歌曲介紹、itunes找素材     1\n",
       "兩首extended歌曲接歌實作1                    1\n",
       "兩首extended歌曲接歌實作2                    1\n",
       "總結：作業製作方法                            1\n",
       "                                    ..\n",
       "結語                                  11\n",
       "章節介紹與案例解析                           12\n",
       "課程總結                                12\n",
       "前言                                  14\n",
       "重點統整                                33\n",
       "Name: chapter_item_name, Length: 20716, dtype: int64"
      ]
     },
     "execution_count": 24,
     "metadata": {},
     "output_type": "execute_result"
    }
   ],
   "source": [
    "course_chapter_item_df['chapter_item_name'].value_counts().sort_values()[20:]"
   ]
  },
  {
   "cell_type": "code",
   "execution_count": 18,
   "metadata": {},
   "outputs": [
    {
     "data": {
      "text/plain": [
       "LECTURE       18977\n",
       "ASSIGNMENT     2313\n",
       "Name: chapter_item_type, dtype: int64"
      ]
     },
     "execution_count": 18,
     "metadata": {},
     "output_type": "execute_result"
    }
   ],
   "source": [
    "course_chapter_item_df['chapter_item_type'].value_counts()"
   ]
  },
  {
   "cell_type": "markdown",
   "metadata": {},
   "source": [
    "# Courses\n",
    "- data shape = (728, 14)\n",
    "- `course_id`: id for identifying a course\n",
    "- `course_name`: the name of the course\n",
    "    - use chinese sentence BERT\n",
    "- `course_price`: the price of a course\n",
    "    - 16 courses are **free**\n",
    "    - most of the courses cost less than 3000\n",
    "- `teacher_id`: id for identifying a teacher\n",
    "    - 553 teachers\n",
    "    - useless, since {id:intro} is 1-to-1\n",
    "- `teacher_intro`: the intro of a teacher\n",
    "    - text data\n",
    "    - use chinese sentence bert\n",
    "    - may do teacher clustering -> assign group\n",
    "- `groups`: the group to which the course belongs to\n",
    "    - A course could correspond to **many groups**\n",
    "    - number of groups: 12\n",
    "    - use FastText\n",
    "- `sub_groups`: the subgroup to which the course belongs to\n",
    "    - A course could correspond to **many subgroups**\n",
    "    - number of subgroups: 91 (correspond to subgroup.csv)\n",
    "- `topics`: the topic to which the course belongs to\n",
    "    - A course could correspond to **many topics**\n",
    "    - number of topics: 201\n",
    "- `course_published_at_local`: 該課程識別 ID 的發行時間\n",
    "- `description`: 課程詳情\n",
    "    - most of them are pictures -> could encode img feature?\n",
    "- `will_learn`: what you could learn in this course\n",
    "    - text data\n",
    "- `required_tools`: what you need to prepare for this course\n",
    "    - text data\n",
    "- `recommended_background`: what kind\n",
    "- `target_group`:哪些人適合這堂課\n",
    "    - descriptive text\n",
    "\n",
    "### Important varaible\n",
    "- Group 1 (一進去網站會看到的)\n",
    "    - `course_name`\n",
    "    - `course_price`\n",
    "- Group 2 (點進去課程的前段到中段)\n",
    "    - `will_learn`\n",
    "    - `desciption`\n",
    "    - `required_tools`\n",
    "    - `recommended_background`\n",
    "    - `target_group`\n",
    "- Group 3 (要拉到很下面才會看到)\n",
    "    - `teacher_id`:\n",
    "    - `teacher_intro`"
   ]
  },
  {
   "cell_type": "code",
   "execution_count": 4,
   "metadata": {},
   "outputs": [
    {
     "data": {
      "text/plain": [
       "(Index(['course_id', 'course_name', 'course_price', 'teacher_id',\n",
       "        'teacher_intro', 'groups', 'sub_groups', 'topics',\n",
       "        'course_published_at_local', 'description', 'will_learn',\n",
       "        'required_tools', 'recommended_background', 'target_group'],\n",
       "       dtype='object'),\n",
       " (728, 14),\n",
       "                   course_id           course_name  course_price  \\\n",
       " 0  61888e868f154b000781b45a  少女人妻華麗變身：七大妝容七彩的夢幻樂園          1800   \n",
       " 1  54d5a117065a7e0e00725ac0         幾何圖形分割 X 色塊組合           100   \n",
       " 2  54d5d9952246e60a009ec571               數位拼貼的手感           300   \n",
       " 3  54d7148a2246e60a009ec588        Line 的貼圖自己動手做！           185   \n",
       " 4  5513e92b38239d10005778e1        為申請學校或工作寫好英文自傳           600   \n",
       " \n",
       "                  teacher_id  \\\n",
       " 0  61888e7bb7fe1c0006850eff   \n",
       " 1  54d5a079065a7e0e00725abe   \n",
       " 2  54cb5c2ea784960a00948678   \n",
       " 3  54d713532246e60a009ec586   \n",
       " 4  5513e92438239d10005778df   \n",
       " \n",
       "                                        teacher_intro   groups      sub_groups  \\\n",
       " 0  在美妝 KOL 圈裡屬個人風格強烈的 Alice，在清新與叛逆風格間遊刃有餘，其幽默的美妝影...     生活品味  更多生活品味,護膚保養與化妝   \n",
       " 1  從學生時代開始摸索photoshop等軟體，自以為有些天賦但後來發現其實沒有。出社會後從事美...    藝術,設計      平面設計,繪畫與插畫   \n",
       " 2  自由工作者，致力於品牌視覺規劃，包含識別系統設計、平面設計、包裝設計、網頁、插畫製作等，偶爾...    藝術,設計       平面設計,電腦繪圖   \n",
       " 3  我是Danny，現是一名自由接案的插畫師，主要是做插畫設計、人物設計、App UI設計，20...    藝術,設計  平面設計,應用設計,電腦繪圖   \n",
       " 4  在北美長大，回到南台灣尋根後，現落腳於南加州的庄腳嬰仔。在鑽研細胞奈米科學與皮膚再生醫學的過...  職場技能,語言           求職,英文   \n",
       " \n",
       "                 topics course_published_at_local  \\\n",
       " 0       更多生活品味,護膚保養與化妝                       NaN   \n",
       " 1  Illustrator/以拉,配色技巧   2015-03-27 23:38:27.195   \n",
       " 2            photoshop   2015-03-27 23:38:27.195   \n",
       " 3  LINE 貼圖設計,photoshop   2015-03-27 23:38:27.195   \n",
       " 4            商用英文,履歷撰寫       2015-05-20 19:56:05   \n",
       " \n",
       "                                          description  \\\n",
       " 0  <img src=\"https://images.api.hahow.in/images/6...   \n",
       " 1  <img src=\"https://storage.googleapis.com/hahow...   \n",
       " 2  <p>拼貼是視覺設計的表現方法之一，可應用在海報、書籍、喜帖、筆記本等各式平面設計，甚至，你...   \n",
       " 3  <ul><li><p>許多人的電腦繪圖第一個開始使用的軟體都是photoshop，主要是因為...   \n",
       " 4  <p>大家好，我是Hans, 想多了解我的朋友，可以從\"老師的自我介紹\"知道更多。我很期待能...   \n",
       " \n",
       "                                           will_learn  \\\n",
       " 0                      不再害怕各種顏色的彩妝，可以更隨心搭配各種繽紛的顏色。\\n   \n",
       " 1              可以將任何區塊分割成自己想要的幾何圖形、快速的上色，並且能夠應用在許多地方   \n",
       " 2  藉由這堂課，可以學習到如何利用身邊的物件自製素材，了解去背、Photoshop的基本操作，並...   \n",
       " 3  如果上完課之後好好練習(不懂的地方隨時提問)，就可以畫出你在一般市面上看的到的line貼圖(...   \n",
       " 4  A personal statement that you can be proud of,...   \n",
       " \n",
       "                                       required_tools  \\\n",
       " 0                                所需工具為：視課程實際會用到的彩妝用品   \n",
       " 1                      Adobe Illustrator（必備）, camera   \n",
       " 2  軟體：Adobe Photoshop、Adobe Illustrator；\\n設備：電腦、相...   \n",
       " 3                               Photoshop(可至官網下載試用版)   \n",
       " 4  Google Doc will be used to submit/share your a...   \n",
       " \n",
       "                               recommended_background  \\\n",
       " 0  只要你有一顆愛化妝、想變漂亮的心皆可以參加。\\n\\n⚠️ 雖然課程當中會帶到相關彩妝技巧，不...   \n",
       " 1                            知道如何使用Illustrator的基本工具列   \n",
       " 2                                                NaN   \n",
       " 3                                  只要手可以拿得起鉛筆和握滑鼠就可以   \n",
       " 4  How to use Google Doc. Basic English listening...   \n",
       " \n",
       "                                         target_group  \n",
       " 0                                             熱愛彩妝的人  \n",
       " 1                              每一位興趣的人都能學得來，非常容易的小技巧  \n",
       " 2         繪圖軟體初學者；喜歡隨性創作；常天馬行空；喜歡剪剪貼貼或收集東西，卻不知該如何收藏。  \n",
       " 3  喜歡畫畫，但是沒有學過電腦繪圖的人、想學基本的電腦繪圖但不知如何入手的人，從10歲-100歲...  \n",
       " 4  People applying for college/post-graduate stud...  )"
      ]
     },
     "execution_count": 4,
     "metadata": {},
     "output_type": "execute_result"
    }
   ],
   "source": [
    "courses_df.columns, \\\n",
    "    courses_df.shape, \\\n",
    "        courses_df.head()"
   ]
  },
  {
   "cell_type": "code",
   "execution_count": 7,
   "metadata": {},
   "outputs": [
    {
     "data": {
      "text/plain": [
       "True"
      ]
     },
     "execution_count": 7,
     "metadata": {},
     "output_type": "execute_result"
    }
   ],
   "source": [
    "unique_course = courses_df['course_id'].value_counts()\n",
    "len(unique_course) == courses_df.shape[0]\n",
    "# no repeated courses"
   ]
  },
  {
   "cell_type": "code",
   "execution_count": 30,
   "metadata": {},
   "outputs": [
    {
     "data": {
      "image/png": "[encoded data removed]",
      "text/plain": [
       "<Figure size 640x480 with 1 Axes>"
      ]
     },
     "metadata": {},
     "output_type": "display_data"
    }
   ],
   "source": [
    "x = courses_df['course_price'].value_counts().index\n",
    "y = courses_df['course_price'].value_counts().values\n",
    "plt.hist(x)\n",
    "plt.show()"
   ]
  },
  {
   "cell_type": "code",
   "execution_count": 23,
   "metadata": {},
   "outputs": [
    {
     "data": {
      "text/plain": [
       "16"
      ]
     },
     "execution_count": 23,
     "metadata": {},
     "output_type": "execute_result"
    }
   ],
   "source": [
    "courses_df[\n",
    "    courses_df['course_price'] == 0\n",
    "].shape[0]"
   ]
  },
  {
   "cell_type": "code",
   "execution_count": 41,
   "metadata": {},
   "outputs": [
    {
     "data": {
      "text/plain": [
       "(553,\n",
       " 59a7c873cd57920700558c12    7\n",
       " 5afa5a0ebb4174001e3fe107    6\n",
       " 5f7c1de062ad22eb607a1a00    6\n",
       " 5bdaa4f20e5a400020262571    6\n",
       " 5e95a2f25161cf0190d3f918    6\n",
       "                            ..\n",
       " 61306f811bf9240007a80b1d    1\n",
       " 60b90c67c5c9fb5a82a26fbd    1\n",
       " 6130492bd5d02a00071f2be5    1\n",
       " 60ebb977fa79d90007aeaa3e    1\n",
       " 607949f02a7cba788738f1eb    1\n",
       " Name: teacher_id, Length: 553, dtype: int64)"
      ]
     },
     "execution_count": 41,
     "metadata": {},
     "output_type": "execute_result"
    }
   ],
   "source": [
    "unique_teacher = courses_df['teacher_id'].value_counts().sort_values(ascending=False)\n",
    "len(unique_teacher)"
   ]
  },
  {
   "cell_type": "code",
   "execution_count": 43,
   "metadata": {},
   "outputs": [
    {
     "data": {
      "text/html": [
       "<div>\n",
       "<style scoped>\n",
       "    .dataframe tbody tr th:only-of-type {\n",
       "        vertical-align: middle;\n",
       "    }\n",
       "\n",
       "    .dataframe tbody tr th {\n",
       "        vertical-align: top;\n",
       "    }\n",
       "\n",
       "    .dataframe thead th {\n",
       "        text-align: right;\n",
       "    }\n",
       "</style>\n",
       "<table border=\"1\" class=\"dataframe\">\n",
       "  <thead>\n",
       "    <tr style=\"text-align: right;\">\n",
       "      <th></th>\n",
       "      <th>course_id</th>\n",
       "      <th>course_name</th>\n",
       "      <th>course_price</th>\n",
       "      <th>teacher_id</th>\n",
       "      <th>teacher_intro</th>\n",
       "      <th>groups</th>\n",
       "      <th>sub_groups</th>\n",
       "      <th>topics</th>\n",
       "      <th>course_published_at_local</th>\n",
       "      <th>description</th>\n",
       "      <th>will_learn</th>\n",
       "      <th>required_tools</th>\n",
       "      <th>recommended_background</th>\n",
       "      <th>target_group</th>\n",
       "    </tr>\n",
       "  </thead>\n",
       "  <tbody>\n",
       "    <tr>\n",
       "      <th>163</th>\n",
       "      <td>59c1c8c84c36510700f925b2</td>\n",
       "      <td>三小時學會拆解社會現象與新聞議題！</td>\n",
       "      <td>990</td>\n",
       "      <td>59a7c873cd57920700558c12</td>\n",
       "      <td>我是筆名人渣文本的專欄作家周偉航，希望能把各種學術專業知識以最簡單實用的方式告訴大家~\\n\\...</td>\n",
       "      <td>人文</td>\n",
       "      <td>社會科學</td>\n",
       "      <td>社會科學</td>\n",
       "      <td>2018-01-13 12:00:03.270</td>\n",
       "      <td>&lt;p&gt;從只是「看新聞」到能夠「講新聞」，你差的就是這一門課！&lt;/p&gt;&lt;p&gt;&lt;br /&gt;&lt;/p...</td>\n",
       "      <td>對新聞事件與社會議題能快速判斷各方論點是否健全，看出誰是亂虎爛的假貨。當然，最重要的是能有效...</td>\n",
       "      <td>沒有耶。不然準備紙筆好了，無聊時可以畫烏龜。</td>\n",
       "      <td>最好識字哦！不識字也要聽得懂人話。</td>\n",
       "      <td>關心時事，但沒空讀一堆政治、社會、哲學經典名著的善良百姓。邪惡百姓也可以啦。</td>\n",
       "    </tr>\n",
       "    <tr>\n",
       "      <th>198</th>\n",
       "      <td>5aaf2dad1e4ee6001e9632fd</td>\n",
       "      <td>三小時教你怎麼講道德不輸人</td>\n",
       "      <td>1200</td>\n",
       "      <td>59a7c873cd57920700558c12</td>\n",
       "      <td>我是筆名人渣文本的專欄作家周偉航，希望能把各種學術專業知識以最簡單實用的方式告訴大家~\\n\\...</td>\n",
       "      <td>人文</td>\n",
       "      <td>社會科學</td>\n",
       "      <td>社會科學</td>\n",
       "      <td>2018-07-10 12:00:34.852</td>\n",
       "      <td>&lt;p&gt;老是被人嗆說不懂「倫理」嗎？每次和人爭論「道德」對錯的時候，總感覺自己是個蠢人嗎？不要...</td>\n",
       "      <td>可針對現實道德衝突提出明確意見，或是通過大學部通識課程與同等級的專業倫理學測驗。</td>\n",
       "      <td>帶腦來就好。</td>\n",
       "      <td>聽得懂中文。</td>\n",
       "      <td>其實人人都需要，但更適合那些對現實道德衝突與解決方案頗有興趣的人。</td>\n",
       "    </tr>\n",
       "    <tr>\n",
       "      <th>302</th>\n",
       "      <td>5cac9bd2d133060020f42ab4</td>\n",
       "      <td>職場必備的批判思考力：基礎篇</td>\n",
       "      <td>499</td>\n",
       "      <td>59a7c873cd57920700558c12</td>\n",
       "      <td>我是筆名人渣文本的專欄作家周偉航，希望能把各種學術專業知識以最簡單實用的方式告訴大家~\\n\\...</td>\n",
       "      <td>人文,職場技能</td>\n",
       "      <td>更多職場技能,社會科學</td>\n",
       "      <td>更多職場技能,社會科學</td>\n",
       "      <td>2019-07-22 11:57:28.890</td>\n",
       "      <td>&lt;p&gt;職涯大師愛談獨立思考，老闆主管也要大家多多動腦，但你就是辦不到，到底該如何是好？&lt;/p...</td>\n",
       "      <td>足以分析日常語句，找出其中可能問題，並提出最基本的解決方案。</td>\n",
       "      <td>本課程無特定工具需求。</td>\n",
       "      <td>國民教育程度即可。</td>\n",
       "      <td>1. 常被評為不具獨立思考能力。\\n2. 很難在論戰中取勝。\\n3. 不太能把握到事情的重點...</td>\n",
       "    </tr>\n",
       "    <tr>\n",
       "      <th>327</th>\n",
       "      <td>5cee252cea2d0500209c0b8e</td>\n",
       "      <td>職場必備的批判思考力：創意力篇</td>\n",
       "      <td>499</td>\n",
       "      <td>59a7c873cd57920700558c12</td>\n",
       "      <td>我是筆名人渣文本的專欄作家周偉航，希望能把各種學術專業知識以最簡單實用的方式告訴大家~\\n\\...</td>\n",
       "      <td>人文,職場技能</td>\n",
       "      <td>更多人文,更多職場技能</td>\n",
       "      <td>更多人文,更多職場技能</td>\n",
       "      <td>2019-09-27 11:57:57.233</td>\n",
       "      <td>&lt;h4&gt;人生短短幾個秋&lt;b&gt;，每天生活不就這樣，啊創意是什麼？能吃嗎？&lt;/b&gt;&lt;/h4&gt;&lt;i...</td>\n",
       "      <td>在不刻意增加生活知能的狀況下，由現有人生經驗與知識創造出有價值的新概念或新方法。</td>\n",
       "      <td>本課程無特定工具需求。</td>\n",
       "      <td>國民教育程度即可。有上過「職場必備的批判思考力：基礎篇」也能有幫助哦</td>\n",
       "      <td>1. 缺乏創意。\\n2. 覺得工作或生活一成不變。\\n3. 事業發展碰到瓶頸急需突破。\\n4...</td>\n",
       "    </tr>\n",
       "    <tr>\n",
       "      <th>352</th>\n",
       "      <td>5d80dde645639e00212d81a5</td>\n",
       "      <td>職場必備的批判思考力：論戰力篇</td>\n",
       "      <td>499</td>\n",
       "      <td>59a7c873cd57920700558c12</td>\n",
       "      <td>我是筆名人渣文本的專欄作家周偉航，希望能把各種學術專業知識以最簡單實用的方式告訴大家~\\n\\...</td>\n",
       "      <td>人文,職場技能</td>\n",
       "      <td>更多職場技能,社會科學</td>\n",
       "      <td>更多職場技能,社會科學</td>\n",
       "      <td>2019-12-13 17:28:11.655</td>\n",
       "      <td>&lt;p&gt;逢年過節，總是被親戚的尬聊擊潰？&lt;/p&gt;&lt;p&gt;碰到推銷傳教，老是乖乖先聽一波？&lt;/p&gt;...</td>\n",
       "      <td>強化溝通表達能力，包括判斷是否該發表意見，如何有效傳達自身想法，針對他人主張該如何快速反應，...</td>\n",
       "      <td>本課程無特定工具需求。</td>\n",
       "      <td>國民教育程度即可。曾上過「職場必備的批判思考力：基礎篇」也能有幫助哦！</td>\n",
       "      <td>1.對溝通能力缺乏自信。\\n2.無法精準展示自身想法。\\n3.難以回應自身無法認同的主張。\\...</td>\n",
       "    </tr>\n",
       "    <tr>\n",
       "      <th>375</th>\n",
       "      <td>5dff3b91f066100021955305</td>\n",
       "      <td>職場必備的批判思考力：反省力篇</td>\n",
       "      <td>499</td>\n",
       "      <td>59a7c873cd57920700558c12</td>\n",
       "      <td>我是筆名人渣文本的專欄作家周偉航，希望能把各種學術專業知識以最簡單實用的方式告訴大家~\\n\\...</td>\n",
       "      <td>人文,職場技能</td>\n",
       "      <td>更多職場技能,社會科學</td>\n",
       "      <td>更多職場技能,社會科學</td>\n",
       "      <td>2020-02-27 11:53:15.313</td>\n",
       "      <td>&lt;p&gt;孔子說「吾日三省吾身」，但你一直都沒認真反省過人生嗎？&lt;/p&gt;&lt;p&gt;你總是感嘆「人生就...</td>\n",
       "      <td>強化綜合反省能力，包括確認自身立場，分析推論過程，檢測觀點強度，跳出惡性循環，並確保結論能對...</td>\n",
       "      <td>本課程無特定工具需求。</td>\n",
       "      <td>國民教育程度即可。曾上過「職場必備的批判思考力：基礎篇」還能更快上手！</td>\n",
       "      <td>1.總是不斷後悔卻無力改變。\\n2.不太清楚失敗的原因。\\n3.一再被批判卻難以徹底改變。\\...</td>\n",
       "    </tr>\n",
       "    <tr>\n",
       "      <th>459</th>\n",
       "      <td>5ebce244df2168d2c1d83995</td>\n",
       "      <td>職場必備的批判思考力：沉思力篇</td>\n",
       "      <td>499</td>\n",
       "      <td>59a7c873cd57920700558c12</td>\n",
       "      <td>我是筆名人渣文本的專欄作家周偉航，希望能把各種學術專業知識以最簡單實用的方式告訴大家~\\n\\...</td>\n",
       "      <td>人文,職場技能</td>\n",
       "      <td>社會科學,職場溝通</td>\n",
       "      <td>口語表達,社會科學</td>\n",
       "      <td>2020-08-31 11:48:46.737</td>\n",
       "      <td>&lt;h4&gt;課程緣起&lt;/h4&gt;&lt;p&gt;老闆要你好好想一想，但你怎麼想，大腦都是一片空白嗎？&lt;/p&gt;...</td>\n",
       "      <td>提升深度思考的能力，包括營造有利沉思的時空、提升集中力、掌握自我主張、強化記憶聯想與推理力、...</td>\n",
       "      <td>本課程無特定工具需求。</td>\n",
       "      <td>國民教育程度即可。曾上過「職場必備的批判思考力：基礎篇」還能更快上手！</td>\n",
       "      <td>1.常因緊張而錯過反應時機。\\n2.有動腦需求時，大腦卻是一片空白。\\n3.思考效率低，總是...</td>\n",
       "    </tr>\n",
       "  </tbody>\n",
       "</table>\n",
       "</div>"
      ],
      "text/plain": [
       "                    course_id        course_name  course_price  \\\n",
       "163  59c1c8c84c36510700f925b2  三小時學會拆解社會現象與新聞議題！           990   \n",
       "198  5aaf2dad1e4ee6001e9632fd      三小時教你怎麼講道德不輸人          1200   \n",
       "302  5cac9bd2d133060020f42ab4     職場必備的批判思考力：基礎篇           499   \n",
       "327  5cee252cea2d0500209c0b8e    職場必備的批判思考力：創意力篇           499   \n",
       "352  5d80dde645639e00212d81a5    職場必備的批判思考力：論戰力篇           499   \n",
       "375  5dff3b91f066100021955305    職場必備的批判思考力：反省力篇           499   \n",
       "459  5ebce244df2168d2c1d83995    職場必備的批判思考力：沉思力篇           499   \n",
       "\n",
       "                   teacher_id  \\\n",
       "163  59a7c873cd57920700558c12   \n",
       "198  59a7c873cd57920700558c12   \n",
       "302  59a7c873cd57920700558c12   \n",
       "327  59a7c873cd57920700558c12   \n",
       "352  59a7c873cd57920700558c12   \n",
       "375  59a7c873cd57920700558c12   \n",
       "459  59a7c873cd57920700558c12   \n",
       "\n",
       "                                         teacher_intro   groups   sub_groups  \\\n",
       "163  我是筆名人渣文本的專欄作家周偉航，希望能把各種學術專業知識以最簡單實用的方式告訴大家~\\n\\...       人文         社會科學   \n",
       "198  我是筆名人渣文本的專欄作家周偉航，希望能把各種學術專業知識以最簡單實用的方式告訴大家~\\n\\...       人文         社會科學   \n",
       "302  我是筆名人渣文本的專欄作家周偉航，希望能把各種學術專業知識以最簡單實用的方式告訴大家~\\n\\...  人文,職場技能  更多職場技能,社會科學   \n",
       "327  我是筆名人渣文本的專欄作家周偉航，希望能把各種學術專業知識以最簡單實用的方式告訴大家~\\n\\...  人文,職場技能  更多人文,更多職場技能   \n",
       "352  我是筆名人渣文本的專欄作家周偉航，希望能把各種學術專業知識以最簡單實用的方式告訴大家~\\n\\...  人文,職場技能  更多職場技能,社會科學   \n",
       "375  我是筆名人渣文本的專欄作家周偉航，希望能把各種學術專業知識以最簡單實用的方式告訴大家~\\n\\...  人文,職場技能  更多職場技能,社會科學   \n",
       "459  我是筆名人渣文本的專欄作家周偉航，希望能把各種學術專業知識以最簡單實用的方式告訴大家~\\n\\...  人文,職場技能    社會科學,職場溝通   \n",
       "\n",
       "          topics course_published_at_local  \\\n",
       "163         社會科學   2018-01-13 12:00:03.270   \n",
       "198         社會科學   2018-07-10 12:00:34.852   \n",
       "302  更多職場技能,社會科學   2019-07-22 11:57:28.890   \n",
       "327  更多人文,更多職場技能   2019-09-27 11:57:57.233   \n",
       "352  更多職場技能,社會科學   2019-12-13 17:28:11.655   \n",
       "375  更多職場技能,社會科學   2020-02-27 11:53:15.313   \n",
       "459    口語表達,社會科學   2020-08-31 11:48:46.737   \n",
       "\n",
       "                                           description  \\\n",
       "163  <p>從只是「看新聞」到能夠「講新聞」，你差的就是這一門課！</p><p><br /></p...   \n",
       "198  <p>老是被人嗆說不懂「倫理」嗎？每次和人爭論「道德」對錯的時候，總感覺自己是個蠢人嗎？不要...   \n",
       "302  <p>職涯大師愛談獨立思考，老闆主管也要大家多多動腦，但你就是辦不到，到底該如何是好？</p...   \n",
       "327  <h4>人生短短幾個秋<b>，每天生活不就這樣，啊創意是什麼？能吃嗎？</b></h4><i...   \n",
       "352  <p>逢年過節，總是被親戚的尬聊擊潰？</p><p>碰到推銷傳教，老是乖乖先聽一波？</p>...   \n",
       "375  <p>孔子說「吾日三省吾身」，但你一直都沒認真反省過人生嗎？</p><p>你總是感嘆「人生就...   \n",
       "459  <h4>課程緣起</h4><p>老闆要你好好想一想，但你怎麼想，大腦都是一片空白嗎？</p>...   \n",
       "\n",
       "                                            will_learn  \\\n",
       "163  對新聞事件與社會議題能快速判斷各方論點是否健全，看出誰是亂虎爛的假貨。當然，最重要的是能有效...   \n",
       "198           可針對現實道德衝突提出明確意見，或是通過大學部通識課程與同等級的專業倫理學測驗。   \n",
       "302                     足以分析日常語句，找出其中可能問題，並提出最基本的解決方案。   \n",
       "327           在不刻意增加生活知能的狀況下，由現有人生經驗與知識創造出有價值的新概念或新方法。   \n",
       "352  強化溝通表達能力，包括判斷是否該發表意見，如何有效傳達自身想法，針對他人主張該如何快速反應，...   \n",
       "375  強化綜合反省能力，包括確認自身立場，分析推論過程，檢測觀點強度，跳出惡性循環，並確保結論能對...   \n",
       "459  提升深度思考的能力，包括營造有利沉思的時空、提升集中力、掌握自我主張、強化記憶聯想與推理力、...   \n",
       "\n",
       "             required_tools               recommended_background  \\\n",
       "163  沒有耶。不然準備紙筆好了，無聊時可以畫烏龜。                    最好識字哦！不識字也要聽得懂人話。   \n",
       "198                  帶腦來就好。                               聽得懂中文。   \n",
       "302             本課程無特定工具需求。                            國民教育程度即可。   \n",
       "327             本課程無特定工具需求。   國民教育程度即可。有上過「職場必備的批判思考力：基礎篇」也能有幫助哦   \n",
       "352             本課程無特定工具需求。  國民教育程度即可。曾上過「職場必備的批判思考力：基礎篇」也能有幫助哦！   \n",
       "375             本課程無特定工具需求。  國民教育程度即可。曾上過「職場必備的批判思考力：基礎篇」還能更快上手！   \n",
       "459             本課程無特定工具需求。  國民教育程度即可。曾上過「職場必備的批判思考力：基礎篇」還能更快上手！   \n",
       "\n",
       "                                          target_group  \n",
       "163             關心時事，但沒空讀一堆政治、社會、哲學經典名著的善良百姓。邪惡百姓也可以啦。  \n",
       "198                  其實人人都需要，但更適合那些對現實道德衝突與解決方案頗有興趣的人。  \n",
       "302  1. 常被評為不具獨立思考能力。\\n2. 很難在論戰中取勝。\\n3. 不太能把握到事情的重點...  \n",
       "327  1. 缺乏創意。\\n2. 覺得工作或生活一成不變。\\n3. 事業發展碰到瓶頸急需突破。\\n4...  \n",
       "352  1.對溝通能力缺乏自信。\\n2.無法精準展示自身想法。\\n3.難以回應自身無法認同的主張。\\...  \n",
       "375  1.總是不斷後悔卻無力改變。\\n2.不太清楚失敗的原因。\\n3.一再被批判卻難以徹底改變。\\...  \n",
       "459  1.常因緊張而錯過反應時機。\\n2.有動腦需求時，大腦卻是一片空白。\\n3.思考效率低，總是...  "
      ]
     },
     "execution_count": 43,
     "metadata": {},
     "output_type": "execute_result"
    }
   ],
   "source": [
    "courses_df[courses_df['teacher_id'] == '59a7c873cd57920700558c12']"
   ]
  },
  {
   "cell_type": "code",
   "execution_count": 38,
   "metadata": {},
   "outputs": [
    {
     "data": {
      "text/plain": [
       "0      在美妝 KOL 圈裡屬個人風格強烈的 Alice，在清新與叛逆風格間遊刃有餘，其幽默的美妝影...\n",
       "1      從學生時代開始摸索photoshop等軟體，自以為有些天賦但後來發現其實沒有。出社會後從事美...\n",
       "2      自由工作者，致力於品牌視覺規劃，包含識別系統設計、平面設計、包裝設計、網頁、插畫製作等，偶爾...\n",
       "3      我是Danny，現是一名自由接案的插畫師，主要是做插畫設計、人物設計、App UI設計，20...\n",
       "4      在北美長大，回到南台灣尋根後，現落腳於南加州的庄腳嬰仔。在鑽研細胞奈米科學與皮膚再生醫學的過...\n",
       "                             ...                        \n",
       "723    不論是創新或傳承，廚藝技術的目的都在於滋養人類。\\n\\n「我如果不在餐廳，便在尋找食材的路上...\n",
       "724    本來是一隻被書頁夾扁的書蟲，意外穿越到人間還不久，所以跟人類的世界實在很不熟，唯一的技能是啃...\n",
       "725    【謝佳陵Lisa】為「味覺の感動」創辦人，也是日本酵母大師-志賀勝榮海外唯一的嫡傳弟子。以自...\n",
       "726    我是 Lynn，也是 Zunni 祖尼美甲設計事務所的負責人。目前在台北市有兩間分店，進入美...\n",
       "727    「課霸ClassBar」，提供您投資交易的課程與活動，包括股票、期貨、選擇權、外匯、與加密貨...\n",
       "Name: teacher_intro, Length: 728, dtype: object"
      ]
     },
     "execution_count": 38,
     "metadata": {},
     "output_type": "execute_result"
    }
   ],
   "source": [
    "courses_df['teacher_intro']"
   ]
  },
  {
   "cell_type": "code",
   "execution_count": 56,
   "metadata": {},
   "outputs": [
    {
     "data": {
      "text/plain": [
       "43"
      ]
     },
     "execution_count": 56,
     "metadata": {},
     "output_type": "execute_result"
    }
   ],
   "source": [
    "unique_group = courses_df['groups'].unique()\n",
    "len(unique_group)"
   ]
  },
  {
   "cell_type": "code",
   "execution_count": 59,
   "metadata": {},
   "outputs": [
    {
     "data": {
      "text/plain": [
       "(12,\n",
       " {'人文',\n",
       "  '手作',\n",
       "  '投資理財',\n",
       "  '攝影',\n",
       "  '生活品味',\n",
       "  '程式',\n",
       "  '職場技能',\n",
       "  '藝術',\n",
       "  '行銷',\n",
       "  '設計',\n",
       "  '語言',\n",
       "  '音樂'})"
      ]
     },
     "execution_count": 59,
     "metadata": {},
     "output_type": "execute_result"
    }
   ],
   "source": [
    "group_set = set()\n",
    "for group in unique_group:\n",
    "    if type(group) == str:\n",
    "        if ',' in group:\n",
    "            group_split = group.split(\",\")\n",
    "            group_set.update(group_split)\n",
    "        else:\n",
    "            group_set.update([group])\n",
    "len(group_set), group_set"
   ]
  },
  {
   "cell_type": "code",
   "execution_count": 45,
   "metadata": {},
   "outputs": [
    {
     "data": {
      "text/plain": [
       "繪畫與插畫                  36\n",
       "烹飪料理與甜點                26\n",
       "英文                     21\n",
       "更多生活品味                 18\n",
       "職場溝通                   18\n",
       "                       ..\n",
       "商業攝影,平面設計,影像創作,電腦繪圖     1\n",
       "心靈成長與教育,效率提升,更多生活品味     1\n",
       "字體設計,手寫字,繪畫與插畫          1\n",
       "素描,角色設計                 1\n",
       "創業,應用設計                 1\n",
       "Name: sub_groups, Length: 236, dtype: int64"
      ]
     },
     "execution_count": 45,
     "metadata": {},
     "output_type": "execute_result"
    }
   ],
   "source": [
    "courses_df['sub_groups'].value_counts()"
   ]
  },
  {
   "cell_type": "code",
   "execution_count": 49,
   "metadata": {},
   "outputs": [
    {
     "data": {
      "text/html": [
       "<div>\n",
       "<style scoped>\n",
       "    .dataframe tbody tr th:only-of-type {\n",
       "        vertical-align: middle;\n",
       "    }\n",
       "\n",
       "    .dataframe tbody tr th {\n",
       "        vertical-align: top;\n",
       "    }\n",
       "\n",
       "    .dataframe thead th {\n",
       "        text-align: right;\n",
       "    }\n",
       "</style>\n",
       "<table border=\"1\" class=\"dataframe\">\n",
       "  <thead>\n",
       "    <tr style=\"text-align: right;\">\n",
       "      <th></th>\n",
       "      <th>groups</th>\n",
       "      <th>sub_groups</th>\n",
       "    </tr>\n",
       "  </thead>\n",
       "  <tbody>\n",
       "    <tr>\n",
       "      <th>0</th>\n",
       "      <td>生活品味</td>\n",
       "      <td>更多生活品味,護膚保養與化妝</td>\n",
       "    </tr>\n",
       "    <tr>\n",
       "      <th>1</th>\n",
       "      <td>藝術,設計</td>\n",
       "      <td>平面設計,繪畫與插畫</td>\n",
       "    </tr>\n",
       "    <tr>\n",
       "      <th>2</th>\n",
       "      <td>藝術,設計</td>\n",
       "      <td>平面設計,電腦繪圖</td>\n",
       "    </tr>\n",
       "    <tr>\n",
       "      <th>3</th>\n",
       "      <td>藝術,設計</td>\n",
       "      <td>平面設計,應用設計,電腦繪圖</td>\n",
       "    </tr>\n",
       "    <tr>\n",
       "      <th>4</th>\n",
       "      <td>職場技能,語言</td>\n",
       "      <td>求職,英文</td>\n",
       "    </tr>\n",
       "    <tr>\n",
       "      <th>...</th>\n",
       "      <td>...</td>\n",
       "      <td>...</td>\n",
       "    </tr>\n",
       "    <tr>\n",
       "      <th>723</th>\n",
       "      <td>生活品味</td>\n",
       "      <td>烹飪料理與甜點</td>\n",
       "    </tr>\n",
       "    <tr>\n",
       "      <th>724</th>\n",
       "      <td>人文</td>\n",
       "      <td>文學</td>\n",
       "    </tr>\n",
       "    <tr>\n",
       "      <th>725</th>\n",
       "      <td>生活品味</td>\n",
       "      <td>烹飪料理與甜點</td>\n",
       "    </tr>\n",
       "    <tr>\n",
       "      <th>726</th>\n",
       "      <td>職場技能,設計</td>\n",
       "      <td>創業,應用設計</td>\n",
       "    </tr>\n",
       "    <tr>\n",
       "      <th>727</th>\n",
       "      <td>投資理財</td>\n",
       "      <td>量化交易,金融商品</td>\n",
       "    </tr>\n",
       "  </tbody>\n",
       "</table>\n",
       "<p>728 rows × 2 columns</p>\n",
       "</div>"
      ],
      "text/plain": [
       "      groups      sub_groups\n",
       "0       生活品味  更多生活品味,護膚保養與化妝\n",
       "1      藝術,設計      平面設計,繪畫與插畫\n",
       "2      藝術,設計       平面設計,電腦繪圖\n",
       "3      藝術,設計  平面設計,應用設計,電腦繪圖\n",
       "4    職場技能,語言           求職,英文\n",
       "..       ...             ...\n",
       "723     生活品味         烹飪料理與甜點\n",
       "724       人文              文學\n",
       "725     生活品味         烹飪料理與甜點\n",
       "726  職場技能,設計         創業,應用設計\n",
       "727     投資理財       量化交易,金融商品\n",
       "\n",
       "[728 rows x 2 columns]"
      ]
     },
     "execution_count": 49,
     "metadata": {},
     "output_type": "execute_result"
    }
   ],
   "source": [
    "courses_df[['groups', 'sub_groups']]"
   ]
  },
  {
   "cell_type": "code",
   "execution_count": 61,
   "metadata": {},
   "outputs": [
    {
     "data": {
      "text/plain": [
       "(201,\n",
       " {'2D 動畫',\n",
       "  '3D 動畫',\n",
       "  'Adobe XD',\n",
       "  'After Effect/AE',\n",
       "  'Android 開發',\n",
       "  'App inventor',\n",
       "  'Autocad',\n",
       "  'C/C++',\n",
       "  'C4D',\n",
       "  'CSS',\n",
       "  'Clip Studio Paint',\n",
       "  'DJ',\n",
       "  'ETF',\n",
       "  'Email技巧',\n",
       "  'Excel',\n",
       "  'Final Cut',\n",
       "  'HTML',\n",
       "  'Illustrator/以拉',\n",
       "  'InDesign',\n",
       "  'Java',\n",
       "  'JavaScript 入門',\n",
       "  'Javascript',\n",
       "  'LINE 貼圖設計',\n",
       "  'Lightroom',\n",
       "  'MySQL',\n",
       "  'Node.js',\n",
       "  'PHP',\n",
       "  'PowerPoint',\n",
       "  'Premiere',\n",
       "  'Procreate',\n",
       "  'Python',\n",
       "  'Python 入門',\n",
       "  'Python 資料分析',\n",
       "  'R 語言',\n",
       "  'R 語言 資料分析',\n",
       "  'Responsive Web Design',\n",
       "  'Sketch',\n",
       "  'Solidity',\n",
       "  'Swift',\n",
       "  'UI/UX',\n",
       "  'Unity',\n",
       "  'Unity3D',\n",
       "  'Word',\n",
       "  'iOS 開發',\n",
       "  'photoshop',\n",
       "  'wordpress',\n",
       "  '中文書法',\n",
       "  '人像攝影',\n",
       "  '人工智慧入門',\n",
       "  '人物插畫',\n",
       "  '人物繪圖',\n",
       "  '介面設計',\n",
       "  '代購批發',\n",
       "  '作曲和編曲',\n",
       "  '個人品牌經營',\n",
       "  '健身',\n",
       "  '其他架站工具',\n",
       "  '刺繡',\n",
       "  '動態攝影',\n",
       "  '動態設計思維',\n",
       "  '動物插畫',\n",
       "  '動物繪圖',\n",
       "  '占卜與塔羅',\n",
       "  '原子筆',\n",
       "  '口語表達',\n",
       "  '吉他',\n",
       "  '命理與占星',\n",
       "  '品牌設計',\n",
       "  '商用英文',\n",
       "  '場景設計',\n",
       "  '壓力舒緩',\n",
       "  '字體設計',\n",
       "  '寫作',\n",
       "  '寵物',\n",
       "  '專案管理',\n",
       "  '居家',\n",
       "  '履歷撰寫',\n",
       "  '形象',\n",
       "  '影像創作',\n",
       "  '影視創作',\n",
       "  '心靈成長與教育',\n",
       "  '戲劇表演',\n",
       "  '戶外運動',\n",
       "  '房地產',\n",
       "  '手作小物',\n",
       "  '手工印刷',\n",
       "  '手工書',\n",
       "  '打光',\n",
       "  '投資觀念',\n",
       "  '提案技巧',\n",
       "  '攝影理論',\n",
       "  '效率提升',\n",
       "  '教學技巧',\n",
       "  '數位行銷',\n",
       "  '數學',\n",
       "  '數據分析',\n",
       "  '文學',\n",
       "  '文案',\n",
       "  '旅行插畫',\n",
       "  '日文',\n",
       "  '日文口說',\n",
       "  '日文翻譯',\n",
       "  '更多人文',\n",
       "  '更多創業',\n",
       "  '更多動態設計工具',\n",
       "  '更多區塊鏈',\n",
       "  '更多商業攝影',\n",
       "  '更多平面設計工具',\n",
       "  '更多後製剪輯工具',\n",
       "  '更多應用設計',\n",
       "  '更多手作',\n",
       "  '更多手作小物',\n",
       "  '更多攝影',\n",
       "  '更多教育',\n",
       "  '更多樂器',\n",
       "  '更多歐洲語言',\n",
       "  '更多求職',\n",
       "  '更多烹飪',\n",
       "  '更多生活品味',\n",
       "  '更多程式',\n",
       "  '更多程式入門',\n",
       "  '更多程式思維',\n",
       "  '更多程式語言',\n",
       "  '更多網頁前端',\n",
       "  '更多網頁設計',\n",
       "  '更多繪畫與插畫',\n",
       "  '更多職場技能',\n",
       "  '更多職場溝通',\n",
       "  '更多藝術',\n",
       "  '更多行銷',\n",
       "  '更多表演藝術',\n",
       "  '更多設計',\n",
       "  '更多語言',\n",
       "  '更多資料科學',\n",
       "  '更多軟體程式開發與維護',\n",
       "  '更多運動',\n",
       "  '更多金融商品',\n",
       "  '更多電腦繪圖',\n",
       "  '更多音樂製作',\n",
       "  '期貨',\n",
       "  '模型製作',\n",
       "  '機器學習',\n",
       "  '歌唱技巧',\n",
       "  '氣球',\n",
       "  '水彩',\n",
       "  '油性粉彩',\n",
       "  '烹飪料理',\n",
       "  '爵士鼓',\n",
       "  '獨立接案',\n",
       "  '理財',\n",
       "  '瑜珈',\n",
       "  '甜點製作',\n",
       "  '產品設計',\n",
       "  '硬筆字',\n",
       "  '社會科學',\n",
       "  '社群行銷',\n",
       "  '程式理財',\n",
       "  '空間透視',\n",
       "  '簡報技巧',\n",
       "  '素描',\n",
       "  '網站開發入門',\n",
       "  '網路商店',\n",
       "  '網頁爬蟲',\n",
       "  '美食攝影',\n",
       "  '聲音／身體表達技巧',\n",
       "  '職涯發展',\n",
       "  '股票',\n",
       "  '自主創業',\n",
       "  '自媒體經營',\n",
       "  '自然語言處理/ NLP',\n",
       "  '舞蹈',\n",
       "  '色彩光學',\n",
       "  '色彩學',\n",
       "  '色鉛筆',\n",
       "  '花藝',\n",
       "  '英文',\n",
       "  '英文口說',\n",
       "  '英文檢定',\n",
       "  '英文藝術字',\n",
       "  '虛擬貨幣',\n",
       "  '親子教育',\n",
       "  '設計理論',\n",
       "  '護膚保養與化妝',\n",
       "  '資料庫',\n",
       "  '資料庫設計',\n",
       "  '資料彙整',\n",
       "  '資料視覺化',\n",
       "  '資訊安全',\n",
       "  '速寫',\n",
       "  '遊戲演算法',\n",
       "  '配色技巧',\n",
       "  '量化交易',\n",
       "  '量化分析',\n",
       "  '鋼琴',\n",
       "  '面試準備',\n",
       "  '韓文',\n",
       "  '音樂理論',\n",
       "  '音樂製作 App',\n",
       "  '食物插畫',\n",
       "  '骨架',\n",
       "  '麵包烘焙'})"
      ]
     },
     "execution_count": 61,
     "metadata": {},
     "output_type": "execute_result"
    }
   ],
   "source": [
    "unique_topic = courses_df['topics'].unique()\n",
    "topic_set = set()\n",
    "for topic in unique_topic:\n",
    "    if type(topic) == str:\n",
    "        if ',' in topic:\n",
    "            topic_split = topic.split(\",\")\n",
    "            topic_set.update(topic_split)\n",
    "        else:\n",
    "            topic_set.update([topic])\n",
    "len(topic_set), topic_set"
   ]
  },
  {
   "cell_type": "code",
   "execution_count": 64,
   "metadata": {},
   "outputs": [
    {
     "data": {
      "text/plain": [
       "2015-03-27 23:38:27.195    3\n",
       "2020-09-30 12:00:08.341    1\n",
       "2020-09-30 12:00:27.592    1\n",
       "2020-09-30 12:00:34.734    1\n",
       "2020-09-30 17:26:21.517    1\n",
       "                          ..\n",
       "2018-12-24 12:02:22.819    1\n",
       "2018-12-28 12:01:15.358    1\n",
       "2018-12-28 12:49:54.031    1\n",
       "2019-01-02 12:08:55.507    1\n",
       "2022-03-29 12:00:16.763    1\n",
       "Name: course_published_at_local, Length: 725, dtype: int64"
      ]
     },
     "execution_count": 64,
     "metadata": {},
     "output_type": "execute_result"
    }
   ],
   "source": [
    "courses_df['course_published_at_local'].value_counts()"
   ]
  },
  {
   "cell_type": "code",
   "execution_count": 68,
   "metadata": {},
   "outputs": [
    {
     "data": {
      "text/plain": [
       "電繪初、中階學員、以電繪為職業目標者、對Photoshop創作有興趣者、商業創作需求者、soho族                                                                                                                                                                                                                                                                             3\n",
       "想要輕鬆擁有額外收入的上班族\\n不想要每天盯盤的投資客 \\n對程式和財經有興趣的大學生\\n金融業想跨界學習量化投資專業人士                                                                                                                                                                                                                                                                 2\n",
       "1. 希望從零開始學程式\\n2. 玩Arduino硬體，並想透過APP遠端控制\\n3. 希望深入了解APP程式設計的各種邏輯和語法\\n4. 想入門Android APP程式設計\\n5. 想要修改別人App程式碼\\n6. 想讓小孩提早接觸程式設計\\n7. 想要軟、硬並進，成為出色的機電整合創客\\n8. 學校有教但怎麼也聽不懂，想求救高手                                                                                                                                                      2\n",
       "1. 學生\\n2. 職場上需接觸文書處理的人\\n3. 想提升個人競爭力的人\\n4. 其實…人人都該學                                                                                                                                                                                                                                                                            2\n",
       "熱愛彩妝的人                                                                                                                                                                                                                                                                                                                        1\n",
       "                                                                                                                                                                                                                                                                                                                             ..\n",
       "1. 文案寫手、小編，透過古文典故與超譯解讀，激發寫文創意。\\n2. 對古文有興趣，想知道國文課本沒告訴你的古人真面目。\\n3. 覺得古文是苦手的同學們，讓你學古文不再枯燥乏味。\\n4. 想補充課內外資料的國文教師，將古文教的更生動有趣。\\n5. 覺得國文課是最廢的一科、古人專門寫廢文的鄉民們，也歡迎一起來上這門課！                                                                                                                                                               1\n",
       "喜愛與自然、植物相處的人。\\n對植物結構之美希望有深度認識的人。\\n喜歡水彩質地卻對調色與水份有恐懼的人。\\n想學習水溶性色鉛細緻運用技法的人。\\n不是綠手指，卻喜愛綠意療癒的人。                                                                                                                                                                                                                                    1\n",
       "1. 對手作有興趣，想嘗試把自己的「作品」變「商品」\\n2. 從事設計相關工作、自由設計接案者、各領域創作者，結合專長打造自己的品牌\\n3. 有創業夢的人，從品牌切入不再對創業毫無頭緒，跨出自己的第一步\\n4. 對手作感興趣，可以先上課再決定要嘗試哪種手作類型\\n5. 覺得目前生活和工作少了些什麼，想要有突破！                                                                                                                                                                  1\n",
       "▶ 不論是想深入學習獨立製作影片，用來記錄生活或參加比賽、經營 youtube 頻道⋯等，甚至是工作上有影片製作需求，或是純粹興趣鑽研，只要是喜歡拍片的人都可以。\\n▶ 想在基礎調色上打好紮實觀念、想深入了解色彩科學及正確的 Log 影片調色法、HLG 線條運作原理等，上網搜尋資料，卻總是剪不斷理還亂的煩惱自學生。\\n▶ 需有基本剪輯軟體操作經驗（至少有使用軟體獨立剪輯出一部影片的經驗）\\n▶ 不會調色或是沒用過 Photoshop、Lightroom 則沒有關係，本堂課上課會教到喔！\\n★若是基礎不足的學員★ 強烈建議先回頭上我的第一堂基礎課程《自己當導演！微電影全方位創作教學（基礎）》，並找一套剪輯軟體熟悉一下操作。    1\n",
       "本課程適合：\\n1.適合無程式、投資經驗的初學者\\n2.預算有限卻想要學習投資的學生或是小資族 \\n3.生活忙碌，沒時間看盤的上班族 \\n4.沒有期貨投資經驗，想要認識期貨還在觀望的投資新手 \\n5.總是押錯邊而被收割，交易遇到瓶頸的投資人\\n6.想要省下時間、懶得投資的投資者\\n\\n本課程不適合：\\n1.課程教授金融知識概念以及基本的程式交易軟體運用，並不教學如何撰寫程式，若想要學習程式交易語法的同學，並不適合這堂課程。\\n2.想要寫出高難度策略、已有豐富程式交易能力的學員。                                                                             1\n",
       "Name: target_group, Length: 718, dtype: int64"
      ]
     },
     "execution_count": 68,
     "metadata": {},
     "output_type": "execute_result"
    }
   ],
   "source": [
    "courses_df['target_group'].value_counts()"
   ]
  },
  {
   "cell_type": "markdown",
   "metadata": {},
   "source": [
    "# Subgroup"
   ]
  },
  {
   "cell_type": "code",
   "execution_count": 76,
   "metadata": {},
   "outputs": [],
   "source": [
    "subgroup_id = subgroup_df['subgroup_id']\n",
    "subgroup_name = subgroup_df['subgroup_name']\n",
    "subgroup_id2name = dict(zip(subgroup_id, subgroup_name))\n",
    "subgroup_name2id = {v: k for k, v in subgroup_id2name.items()}"
   ]
  },
  {
   "cell_type": "markdown",
   "metadata": {},
   "source": [
    "# Train Group"
   ]
  },
  {
   "cell_type": "code",
   "execution_count": 4,
   "metadata": {},
   "outputs": [
    {
     "data": {
      "text/plain": [
       "True"
      ]
     },
     "execution_count": 4,
     "metadata": {},
     "output_type": "execute_result"
    }
   ],
   "source": [
    "unique_user = train_group_df['user_id'].unique()\n",
    "len(unique_user) == train_group_df.shape[0]"
   ]
  },
  {
   "cell_type": "code",
   "execution_count": 15,
   "metadata": {},
   "outputs": [
    {
     "data": {
      "text/plain": [
       "51    0.059370\n",
       "59    0.057051\n",
       "7     0.044429\n",
       "71    0.043078\n",
       "3     0.041799\n",
       "        ...   \n",
       "86    0.000247\n",
       "17    0.000222\n",
       "82    0.000209\n",
       "31    0.000209\n",
       "18    0.000175\n",
       "Length: 91, dtype: float64"
      ]
     },
     "execution_count": 15,
     "metadata": {},
     "output_type": "execute_result"
    }
   ],
   "source": [
    "_, subgroups = make_multiple_hard_labels(train_group_df, 'subgroup')\n",
    "subgroups = pd.Series(subgroups)\n",
    "subgroups.value_counts() / subgroups.shape\n",
    "# All topics were purchased before"
   ]
  },
  {
   "cell_type": "code",
   "execution_count": 91,
   "metadata": {},
   "outputs": [
    {
     "data": {
      "text/html": [
       "<div>\n",
       "<style scoped>\n",
       "    .dataframe tbody tr th:only-of-type {\n",
       "        vertical-align: middle;\n",
       "    }\n",
       "\n",
       "    .dataframe tbody tr th {\n",
       "        vertical-align: top;\n",
       "    }\n",
       "\n",
       "    .dataframe thead th {\n",
       "        text-align: right;\n",
       "    }\n",
       "</style>\n",
       "<table border=\"1\" class=\"dataframe\">\n",
       "  <thead>\n",
       "    <tr style=\"text-align: right;\">\n",
       "      <th></th>\n",
       "      <th>user_id</th>\n",
       "      <th>subgroup</th>\n",
       "    </tr>\n",
       "  </thead>\n",
       "  <tbody>\n",
       "    <tr>\n",
       "      <th>0</th>\n",
       "      <td>5bdecbfffec014002166796a</td>\n",
       "      <td>27</td>\n",
       "    </tr>\n",
       "    <tr>\n",
       "      <th>1</th>\n",
       "      <td>5fedf958af850a915c86362c</td>\n",
       "      <td>1 7 19 29 36 49 50 51 59 61 63 64 66 69 72</td>\n",
       "    </tr>\n",
       "    <tr>\n",
       "      <th>2</th>\n",
       "      <td>5fd255c43136a460c6f3f930</td>\n",
       "      <td>8 28</td>\n",
       "    </tr>\n",
       "    <tr>\n",
       "      <th>3</th>\n",
       "      <td>5a0bde2aa15b3f001e98429a</td>\n",
       "      <td>1 59 60 71 79</td>\n",
       "    </tr>\n",
       "    <tr>\n",
       "      <th>4</th>\n",
       "      <td>5fedf8132a0eb0bfab27882b</td>\n",
       "      <td>89</td>\n",
       "    </tr>\n",
       "  </tbody>\n",
       "</table>\n",
       "</div>"
      ],
      "text/plain": [
       "                    user_id                                    subgroup\n",
       "0  5bdecbfffec014002166796a                                          27\n",
       "1  5fedf958af850a915c86362c  1 7 19 29 36 49 50 51 59 61 63 64 66 69 72\n",
       "2  5fd255c43136a460c6f3f930                                        8 28\n",
       "3  5a0bde2aa15b3f001e98429a                               1 59 60 71 79\n",
       "4  5fedf8132a0eb0bfab27882b                                          89"
      ]
     },
     "execution_count": 91,
     "metadata": {},
     "output_type": "execute_result"
    }
   ],
   "source": [
    "train_group_df.head()"
   ]
  },
  {
   "cell_type": "markdown",
   "metadata": {},
   "source": [
    "# Train"
   ]
  },
  {
   "cell_type": "code",
   "execution_count": 5,
   "metadata": {},
   "outputs": [
    {
     "data": {
      "text/plain": [
       "(True, 59737)"
      ]
     },
     "execution_count": 5,
     "metadata": {},
     "output_type": "execute_result"
    }
   ],
   "source": [
    "unique_user = train_df['user_id'].unique()\n",
    "len(unique_user) == train_df.shape[0], train_df.shape[0]"
   ]
  },
  {
   "cell_type": "code",
   "execution_count": 16,
   "metadata": {},
   "outputs": [
    {
     "data": {
      "text/plain": [
       "5fc5ee1b08b74a6e3723abd2    0.061472\n",
       "5f7c210b1de7982fb413a3e9    0.044081\n",
       "6030c9cd99e14cc2401e66b9    0.042698\n",
       "5f7c209762ad22756c7a1c74    0.036660\n",
       "60cb0a440dabda80019d5f7c    0.031424\n",
       "                              ...   \n",
       "55b0ba667b4d991000119a92    0.000007\n",
       "56082612c61d930a00456139    0.000007\n",
       "55ae36c87b4d99100011990f    0.000007\n",
       "55ae34247b4d99100011990d    0.000007\n",
       "5a531b7d5518aa001e320c8c    0.000007\n",
       "Length: 664, dtype: float64"
      ]
     },
     "execution_count": 16,
     "metadata": {},
     "output_type": "execute_result"
    }
   ],
   "source": [
    "_, course_ids = make_multiple_hard_labels(train_df, 'course_id')\n",
    "course_ids = pd.Series(course_ids)\n",
    "course_ids.value_counts() / course_ids.shape"
   ]
  },
  {
   "cell_type": "code",
   "execution_count": 24,
   "metadata": {},
   "outputs": [
    {
     "name": "stdout",
     "output_type": "stream",
     "text": [
      "There are 64 unbought courses\n",
      "{'6056f8ceab70de413d98e723', '61b941f2e8990300069e4e9e', '60efd3a347b7d70006894784', '61161afbbeafad00060b4503', '6083734d17b1e70d08fd3ca6', '6164fd2cc74856000619aa16', '6168db780c0dd90006161f32', '60fe7a7e006b74000621ce1f', '60f5240430b73c00071c1388', '6039f9ad1f5b5b279b5183d5', '5fe6fe2c5a5ba942b377c5ec', '60bdbc454ee6592acad8e950', '61681f49fea517000686d9dc', '60fcc2932b90ea00074c4a16', '60ee8d419b2ee60007c940cf', '61056b63d46a000007a46af7', '55ae66017b4d991000119959', '612f7b671bf9240007a68ad4', '5e68a440e612310028027e40', '6156a77fdf426a0007cc5fe1', '6125b83cdf147200070db995', '60c1d33a8dd31844b56bfd54', '611dbe96be4b2d000699b345', '611f7d91bd122100071f2926', '60e7f0598036260006b71683', '6135374d94b8350007f7fe43', '6157d85471f0da00079a65b7', '58bfdaab5c4e6507007cdeca', '6155cda6d425f500065f5c96', '60dd6d80638ed00aa99b5556', '6107cd6c3cc7a0000689c1c6', '5ff6aa28c5cbbcb694532eaa', '56e0e9fb4e3ef90900b7cff1', '61237ed5df69e30006dbfff7', '568537d0e8ff9b20003cf504', '61888f9bb259500007e2cb20', '60e67da88f992a0006529dc6', '618c94c13a0b8d00073756e9', '61a5d89b3b954c0007022c77', '6191c002a20c140006edcfcd', '613c4d77323c7f000694dd08', '61666a458fc5c300073e6f60', '60b49206c0bb3056c3a6ee52', '61b6c2bea7dfb10006498876', '6130753a26d20b0006d48dfe', '60e2c36d2db6400007df9929', '61852baeb7fe1c0006800660', '60ed57916444da00061af44d', '6184efc3b2319400078aefe7', '5f94ee2d4100669cadf5d86f', '6184ace6b2319400078a8dad', '6136ed9fafdea00006bdd8ee', '60ed88d6b89d2300069ee963', '610814069871100007ab7b4f', '617a0a057bb91d0007a646d4', '61888e868f154b000781b45a', '607ceae6fa76bb60e8a556c8', '6130495cd5d02a00071f2c3b', '61152dc3ef211d00067ff487', '611f5d074b76af0007c24d7e', '61381a3f33a3960006df1eb3', '60c84de9eb75ca46e0c25e85', '5eb520a88e965359dd562d98', '605ca63e3cd943ce48dc5daa'}\n"
     ]
    }
   ],
   "source": [
    "all_course = courses_df['course_id'].tolist()\n",
    "unbought_courses = set(all_course) - set(course_ids)\n",
    "print(f\"There are {len(unbought_courses)} unbought courses\")\n",
    "print(unbought_courses)"
   ]
  },
  {
   "cell_type": "code",
   "execution_count": 94,
   "metadata": {},
   "outputs": [
    {
     "data": {
      "text/html": [
       "<div>\n",
       "<style scoped>\n",
       "    .dataframe tbody tr th:only-of-type {\n",
       "        vertical-align: middle;\n",
       "    }\n",
       "\n",
       "    .dataframe tbody tr th {\n",
       "        vertical-align: top;\n",
       "    }\n",
       "\n",
       "    .dataframe thead th {\n",
       "        text-align: right;\n",
       "    }\n",
       "</style>\n",
       "<table border=\"1\" class=\"dataframe\">\n",
       "  <thead>\n",
       "    <tr style=\"text-align: right;\">\n",
       "      <th></th>\n",
       "      <th>user_id</th>\n",
       "      <th>course_id</th>\n",
       "    </tr>\n",
       "  </thead>\n",
       "  <tbody>\n",
       "    <tr>\n",
       "      <th>0</th>\n",
       "      <td>5bdecbfffec014002166796a</td>\n",
       "      <td>5f194354cad0d086f3ee24cf</td>\n",
       "    </tr>\n",
       "    <tr>\n",
       "      <th>1</th>\n",
       "      <td>5fedf958af850a915c86362c</td>\n",
       "      <td>5bfd47782d018e0020e4b0e4 5fc4a352d375951a03cc0...</td>\n",
       "    </tr>\n",
       "    <tr>\n",
       "      <th>2</th>\n",
       "      <td>5fd255c43136a460c6f3f930</td>\n",
       "      <td>598053e0acc137070007186a 6031136edd9bc1681035b892</td>\n",
       "    </tr>\n",
       "    <tr>\n",
       "      <th>3</th>\n",
       "      <td>5a0bde2aa15b3f001e98429a</td>\n",
       "      <td>5fc5ed671be929537e5283bb 5fc5edae001c9102feab8...</td>\n",
       "    </tr>\n",
       "    <tr>\n",
       "      <th>4</th>\n",
       "      <td>5fedf8132a0eb0bfab27882b</td>\n",
       "      <td>5e8e9d3c5a140c3d1e1c5245</td>\n",
       "    </tr>\n",
       "  </tbody>\n",
       "</table>\n",
       "</div>"
      ],
      "text/plain": [
       "                    user_id                                          course_id\n",
       "0  5bdecbfffec014002166796a                           5f194354cad0d086f3ee24cf\n",
       "1  5fedf958af850a915c86362c  5bfd47782d018e0020e4b0e4 5fc4a352d375951a03cc0...\n",
       "2  5fd255c43136a460c6f3f930  598053e0acc137070007186a 6031136edd9bc1681035b892\n",
       "3  5a0bde2aa15b3f001e98429a  5fc5ed671be929537e5283bb 5fc5edae001c9102feab8...\n",
       "4  5fedf8132a0eb0bfab27882b                           5e8e9d3c5a140c3d1e1c5245"
      ]
     },
     "execution_count": 94,
     "metadata": {},
     "output_type": "execute_result"
    }
   ],
   "source": [
    "train_df.head()"
   ]
  },
  {
   "cell_type": "markdown",
   "metadata": {},
   "source": [
    "# Courses to subgroup mapping\n",
    "- Group: subgroup: course_id mapping\n",
    "- do some EDA on this df\n",
    "- do some EDA on interaction with user\n",
    "    - check never bought course and category and go test on leaderboard"
   ]
  },
  {
   "cell_type": "code",
   "execution_count": 7,
   "metadata": {},
   "outputs": [
    {
     "data": {
      "text/html": [
       "<div>\n",
       "<style scoped>\n",
       "    .dataframe tbody tr th:only-of-type {\n",
       "        vertical-align: middle;\n",
       "    }\n",
       "\n",
       "    .dataframe tbody tr th {\n",
       "        vertical-align: top;\n",
       "    }\n",
       "\n",
       "    .dataframe thead th {\n",
       "        text-align: right;\n",
       "    }\n",
       "</style>\n",
       "<table border=\"1\" class=\"dataframe\">\n",
       "  <thead>\n",
       "    <tr style=\"text-align: right;\">\n",
       "      <th></th>\n",
       "      <th>course_id</th>\n",
       "      <th>groups</th>\n",
       "      <th>sub_groups</th>\n",
       "    </tr>\n",
       "  </thead>\n",
       "  <tbody>\n",
       "    <tr>\n",
       "      <th>0</th>\n",
       "      <td>61888e868f154b000781b45a</td>\n",
       "      <td>生活品味</td>\n",
       "      <td>更多生活品味,護膚保養與化妝</td>\n",
       "    </tr>\n",
       "    <tr>\n",
       "      <th>1</th>\n",
       "      <td>54d5a117065a7e0e00725ac0</td>\n",
       "      <td>藝術,設計</td>\n",
       "      <td>平面設計,繪畫與插畫</td>\n",
       "    </tr>\n",
       "    <tr>\n",
       "      <th>2</th>\n",
       "      <td>54d5d9952246e60a009ec571</td>\n",
       "      <td>藝術,設計</td>\n",
       "      <td>平面設計,電腦繪圖</td>\n",
       "    </tr>\n",
       "    <tr>\n",
       "      <th>3</th>\n",
       "      <td>54d7148a2246e60a009ec588</td>\n",
       "      <td>藝術,設計</td>\n",
       "      <td>平面設計,應用設計,電腦繪圖</td>\n",
       "    </tr>\n",
       "    <tr>\n",
       "      <th>4</th>\n",
       "      <td>5513e92b38239d10005778e1</td>\n",
       "      <td>職場技能,語言</td>\n",
       "      <td>求職,英文</td>\n",
       "    </tr>\n",
       "    <tr>\n",
       "      <th>...</th>\n",
       "      <td>...</td>\n",
       "      <td>...</td>\n",
       "      <td>...</td>\n",
       "    </tr>\n",
       "    <tr>\n",
       "      <th>723</th>\n",
       "      <td>6191c002a20c140006edcfcd</td>\n",
       "      <td>生活品味</td>\n",
       "      <td>烹飪料理與甜點</td>\n",
       "    </tr>\n",
       "    <tr>\n",
       "      <th>724</th>\n",
       "      <td>60ee8d419b2ee60007c940cf</td>\n",
       "      <td>人文</td>\n",
       "      <td>文學</td>\n",
       "    </tr>\n",
       "    <tr>\n",
       "      <th>725</th>\n",
       "      <td>61b941f2e8990300069e4e9e</td>\n",
       "      <td>生活品味</td>\n",
       "      <td>烹飪料理與甜點</td>\n",
       "    </tr>\n",
       "    <tr>\n",
       "      <th>726</th>\n",
       "      <td>6164fd2cc74856000619aa16</td>\n",
       "      <td>職場技能,設計</td>\n",
       "      <td>創業,應用設計</td>\n",
       "    </tr>\n",
       "    <tr>\n",
       "      <th>727</th>\n",
       "      <td>607ceae6fa76bb60e8a556c8</td>\n",
       "      <td>投資理財</td>\n",
       "      <td>量化交易,金融商品</td>\n",
       "    </tr>\n",
       "  </tbody>\n",
       "</table>\n",
       "<p>728 rows × 3 columns</p>\n",
       "</div>"
      ],
      "text/plain": [
       "                    course_id   groups      sub_groups\n",
       "0    61888e868f154b000781b45a     生活品味  更多生活品味,護膚保養與化妝\n",
       "1    54d5a117065a7e0e00725ac0    藝術,設計      平面設計,繪畫與插畫\n",
       "2    54d5d9952246e60a009ec571    藝術,設計       平面設計,電腦繪圖\n",
       "3    54d7148a2246e60a009ec588    藝術,設計  平面設計,應用設計,電腦繪圖\n",
       "4    5513e92b38239d10005778e1  職場技能,語言           求職,英文\n",
       "..                        ...      ...             ...\n",
       "723  6191c002a20c140006edcfcd     生活品味         烹飪料理與甜點\n",
       "724  60ee8d419b2ee60007c940cf       人文              文學\n",
       "725  61b941f2e8990300069e4e9e     生活品味         烹飪料理與甜點\n",
       "726  6164fd2cc74856000619aa16  職場技能,設計         創業,應用設計\n",
       "727  607ceae6fa76bb60e8a556c8     投資理財       量化交易,金融商品\n",
       "\n",
       "[728 rows x 3 columns]"
      ]
     },
     "execution_count": 7,
     "metadata": {},
     "output_type": "execute_result"
    }
   ],
   "source": [
    "courses_df[['course_id', 'groups', 'sub_groups']]"
   ]
  },
  {
   "cell_type": "code",
   "execution_count": 8,
   "metadata": {},
   "outputs": [],
   "source": [
    "courseid2subgroup = dict()\n",
    "for i, data in courses_df.iterrows():\n",
    "    c_id = data['course_id']\n",
    "    sub_groups = data['sub_groups']\n",
    "    if type(sub_groups) == str:\n",
    "        if ',' in sub_groups:\n",
    "            sub_groups = sub_groups.split(',')\n",
    "    else:\n",
    "        sub_groups = 'nan'\n",
    "    \n",
    "    courseid2subgroup[c_id] = sub_groups"
   ]
  },
  {
   "cell_type": "code",
   "execution_count": 11,
   "metadata": {},
   "outputs": [],
   "source": [
    "courseid2group = dict()\n",
    "for i, data in courses_df.iterrows():\n",
    "    c_id = data['course_id']\n",
    "    groups = data['groups']\n",
    "    if type(groups) == str:\n",
    "        if ',' in groups:\n",
    "            groups = groups.split(',')\n",
    "    else:\n",
    "        groups = 'nan'\n",
    "    \n",
    "    courseid2group[c_id] = groups"
   ]
  },
  {
   "cell_type": "code",
   "execution_count": 12,
   "metadata": {},
   "outputs": [],
   "source": [
    "with open(os.path.join(Path(os.getcwd()).parent.absolute(), 'utils', 'remap', 'courseid2subgroup.json'), 'w') as f:\n",
    "    json.dump(courseid2subgroup, f)\n",
    "with open(os.path.join(Path(os.getcwd()).parent.absolute(), 'utils', 'remap', 'courseid2group.json'), 'w') as f:\n",
    "    json.dump(courseid2group, f)"
   ]
  },
  {
   "cell_type": "code",
   "execution_count": 13,
   "metadata": {},
   "outputs": [],
   "source": [
    "with open(os.path.join(Path(os.getcwd()).parent.absolute(), 'utils', 'remap', 'courseid2subgroup.json'), 'r') as f:\n",
    "    d = json.load(f)"
   ]
  },
  {
   "cell_type": "markdown",
   "metadata": {},
   "source": [
    "# subgroup = nan courses"
   ]
  },
  {
   "cell_type": "code",
   "execution_count": 63,
   "metadata": {},
   "outputs": [
    {
     "data": {
      "text/html": [
       "<div>\n",
       "<style scoped>\n",
       "    .dataframe tbody tr th:only-of-type {\n",
       "        vertical-align: middle;\n",
       "    }\n",
       "\n",
       "    .dataframe tbody tr th {\n",
       "        vertical-align: top;\n",
       "    }\n",
       "\n",
       "    .dataframe thead th {\n",
       "        text-align: right;\n",
       "    }\n",
       "</style>\n",
       "<table border=\"1\" class=\"dataframe\">\n",
       "  <thead>\n",
       "    <tr style=\"text-align: right;\">\n",
       "      <th></th>\n",
       "      <th>course_id</th>\n",
       "      <th>course_name</th>\n",
       "      <th>course_price</th>\n",
       "      <th>teacher_id</th>\n",
       "      <th>teacher_intro</th>\n",
       "      <th>groups</th>\n",
       "      <th>sub_groups</th>\n",
       "      <th>topics</th>\n",
       "      <th>course_published_at_local</th>\n",
       "      <th>description</th>\n",
       "      <th>will_learn</th>\n",
       "      <th>required_tools</th>\n",
       "      <th>recommended_background</th>\n",
       "      <th>target_group</th>\n",
       "    </tr>\n",
       "  </thead>\n",
       "  <tbody>\n",
       "    <tr>\n",
       "      <th>35</th>\n",
       "      <td>563b54ff423bdd0a00103e90</td>\n",
       "      <td>超簡單讓你學會 Beatbox</td>\n",
       "      <td>400</td>\n",
       "      <td>563b5479423bdd0a00103e8f</td>\n",
       "      <td>NaN</td>\n",
       "      <td>NaN</td>\n",
       "      <td>NaN</td>\n",
       "      <td>NaN</td>\n",
       "      <td>2016-02-07 13:12:18</td>\n",
       "      <td>&lt;p&gt;&lt;b&gt;        Beatbox（節奏口技），屬於節奏、音樂類的演出，可以搭配各式...</td>\n",
       "      <td>隨時隨地表演，上台驚艷全場，跟著任何音樂進行Cover</td>\n",
       "      <td>嘴巴</td>\n",
       "      <td>完全不用，只需要認真看影片的心</td>\n",
       "      <td>喜歡音樂、對Beatbox有興趣的人，喜歡表演的人</td>\n",
       "    </tr>\n",
       "  </tbody>\n",
       "</table>\n",
       "</div>"
      ],
      "text/plain": [
       "                   course_id      course_name  course_price  \\\n",
       "35  563b54ff423bdd0a00103e90  超簡單讓你學會 Beatbox           400   \n",
       "\n",
       "                  teacher_id teacher_intro groups sub_groups topics  \\\n",
       "35  563b5479423bdd0a00103e8f           NaN    NaN        NaN    NaN   \n",
       "\n",
       "   course_published_at_local  \\\n",
       "35       2016-02-07 13:12:18   \n",
       "\n",
       "                                          description  \\\n",
       "35  <p><b>        Beatbox（節奏口技），屬於節奏、音樂類的演出，可以搭配各式...   \n",
       "\n",
       "                     will_learn required_tools recommended_background  \\\n",
       "35  隨時隨地表演，上台驚艷全場，跟著任何音樂進行Cover             嘴巴        完全不用，只需要認真看影片的心   \n",
       "\n",
       "                 target_group  \n",
       "35  喜歡音樂、對Beatbox有興趣的人，喜歡表演的人  "
      ]
     },
     "execution_count": 63,
     "metadata": {},
     "output_type": "execute_result"
    }
   ],
   "source": [
    "courses_df[courses_df['course_id'] == '563b54ff423bdd0a00103e90']"
   ]
  },
  {
   "attachments": {},
   "cell_type": "markdown",
   "metadata": {},
   "source": [
    "# Valid and test set"
   ]
  },
  {
   "cell_type": "code",
   "execution_count": 13,
   "metadata": {},
   "outputs": [],
   "source": [
    "def read_data(mode, seen, category):\n",
    "    if seen == True:\n",
    "        mid_fix = 'seen'\n",
    "    else:\n",
    "        mid_fix = 'unseen'\n",
    "    \n",
    "    if category == 'topic':\n",
    "        post_fix = '_group'\n",
    "    else:\n",
    "        post_fix = ''\n",
    "\n",
    "    filename = f'{mode}_{mid_fix}{post_fix}.csv'\n",
    "    path = os.path.join(DATA_ROOT, mode, filename)\n",
    "    df = pd.read_csv(path)\n",
    "    return df"
   ]
  },
  {
   "cell_type": "code",
   "execution_count": 16,
   "metadata": {},
   "outputs": [],
   "source": [
    "val_seen_topic_df = read_data('val', seen=True, category='topic')\n",
    "val_unseen_topic_df = read_data('val', seen=False, category='topic')\n",
    "val_seen_course_df = read_data('val', seen=True, category='course')\n",
    "val_unseen_course_df = read_data('val', seen=False, category='course')\n",
    "\n",
    "test_seen_topic_df = read_data('test', seen=True, category='topic')\n",
    "test_unseen_topic_df = read_data('test', seen=False, category='topic')\n",
    "test_seen_course_df = read_data('test', seen=True, category='course')\n",
    "test_unseen_course_df = read_data('test', seen=False, category='course')"
   ]
  },
  {
   "cell_type": "code",
   "execution_count": 17,
   "metadata": {},
   "outputs": [
    {
     "data": {
      "text/plain": [
       "((7748, 2), (11622, 2), (7748, 2), (11622, 2))"
      ]
     },
     "execution_count": 17,
     "metadata": {},
     "output_type": "execute_result"
    }
   ],
   "source": [
    "val_seen_topic_df.shape, val_unseen_topic_df.shape, val_seen_course_df.shape, val_unseen_course_df.shape"
   ]
  },
  {
   "cell_type": "code",
   "execution_count": 25,
   "metadata": {},
   "outputs": [
    {
     "data": {
      "text/html": [
       "<div>\n",
       "<style scoped>\n",
       "    .dataframe tbody tr th:only-of-type {\n",
       "        vertical-align: middle;\n",
       "    }\n",
       "\n",
       "    .dataframe tbody tr th {\n",
       "        vertical-align: top;\n",
       "    }\n",
       "\n",
       "    .dataframe thead th {\n",
       "        text-align: right;\n",
       "    }\n",
       "</style>\n",
       "<table border=\"1\" class=\"dataframe\">\n",
       "  <thead>\n",
       "    <tr style=\"text-align: right;\">\n",
       "      <th></th>\n",
       "      <th>user_id</th>\n",
       "      <th>course_id</th>\n",
       "    </tr>\n",
       "  </thead>\n",
       "  <tbody>\n",
       "    <tr>\n",
       "      <th>0</th>\n",
       "      <td>56dae2b74e3ef90900b7bd0e</td>\n",
       "      <td>5b61928a8011d1001e356102</td>\n",
       "    </tr>\n",
       "    <tr>\n",
       "      <th>1</th>\n",
       "      <td>60e66f29be3e3b0006c4db75</td>\n",
       "      <td>559e49185850311000fca504</td>\n",
       "    </tr>\n",
       "    <tr>\n",
       "      <th>2</th>\n",
       "      <td>5c919efb728ddf00208b9b2b</td>\n",
       "      <td>60ddc3ca06259d00064c7f17 60aeac37bca91777bf5bb...</td>\n",
       "    </tr>\n",
       "    <tr>\n",
       "      <th>3</th>\n",
       "      <td>5ac115507997a2001e7c3617</td>\n",
       "      <td>58d5c70c27ea7d070060160e</td>\n",
       "    </tr>\n",
       "    <tr>\n",
       "      <th>4</th>\n",
       "      <td>5f53b84440c5be3bb873a9d3</td>\n",
       "      <td>5f55fb39b34335d28416bd0c</td>\n",
       "    </tr>\n",
       "  </tbody>\n",
       "</table>\n",
       "</div>"
      ],
      "text/plain": [
       "                    user_id                                          course_id\n",
       "0  56dae2b74e3ef90900b7bd0e                           5b61928a8011d1001e356102\n",
       "1  60e66f29be3e3b0006c4db75                           559e49185850311000fca504\n",
       "2  5c919efb728ddf00208b9b2b  60ddc3ca06259d00064c7f17 60aeac37bca91777bf5bb...\n",
       "3  5ac115507997a2001e7c3617                           58d5c70c27ea7d070060160e\n",
       "4  5f53b84440c5be3bb873a9d3                           5f55fb39b34335d28416bd0c"
      ]
     },
     "execution_count": 25,
     "metadata": {},
     "output_type": "execute_result"
    }
   ],
   "source": [
    "val_seen_course_df.head()"
   ]
  },
  {
   "cell_type": "code",
   "execution_count": 18,
   "metadata": {},
   "outputs": [
    {
     "data": {
      "text/plain": [
       "((7205, 2), (11097, 2), (7205, 2), (11097, 2))"
      ]
     },
     "execution_count": 18,
     "metadata": {},
     "output_type": "execute_result"
    }
   ],
   "source": [
    "test_seen_topic_df.shape, test_unseen_topic_df.shape, test_seen_course_df.shape, test_unseen_course_df.shape"
   ]
  },
  {
   "cell_type": "code",
   "execution_count": 19,
   "metadata": {},
   "outputs": [
    {
     "data": {
      "text/html": [
       "<div>\n",
       "<style scoped>\n",
       "    .dataframe tbody tr th:only-of-type {\n",
       "        vertical-align: middle;\n",
       "    }\n",
       "\n",
       "    .dataframe tbody tr th {\n",
       "        vertical-align: top;\n",
       "    }\n",
       "\n",
       "    .dataframe thead th {\n",
       "        text-align: right;\n",
       "    }\n",
       "</style>\n",
       "<table border=\"1\" class=\"dataframe\">\n",
       "  <thead>\n",
       "    <tr style=\"text-align: right;\">\n",
       "      <th></th>\n",
       "      <th>user_id</th>\n",
       "      <th>subgroup</th>\n",
       "    </tr>\n",
       "  </thead>\n",
       "  <tbody>\n",
       "    <tr>\n",
       "      <th>0</th>\n",
       "      <td>56dae2b74e3ef90900b7bd0e</td>\n",
       "      <td>37 71</td>\n",
       "    </tr>\n",
       "    <tr>\n",
       "      <th>1</th>\n",
       "      <td>60e66f29be3e3b0006c4db75</td>\n",
       "      <td>1 14 15</td>\n",
       "    </tr>\n",
       "    <tr>\n",
       "      <th>2</th>\n",
       "      <td>5c919efb728ddf00208b9b2b</td>\n",
       "      <td>1 3 5 25 29 50 51 52 66 67 72 73</td>\n",
       "    </tr>\n",
       "    <tr>\n",
       "      <th>3</th>\n",
       "      <td>5ac115507997a2001e7c3617</td>\n",
       "      <td>33 34 38 39</td>\n",
       "    </tr>\n",
       "    <tr>\n",
       "      <th>4</th>\n",
       "      <td>5f53b84440c5be3bb873a9d3</td>\n",
       "      <td>30</td>\n",
       "    </tr>\n",
       "  </tbody>\n",
       "</table>\n",
       "</div>"
      ],
      "text/plain": [
       "                    user_id                          subgroup\n",
       "0  56dae2b74e3ef90900b7bd0e                             37 71\n",
       "1  60e66f29be3e3b0006c4db75                           1 14 15\n",
       "2  5c919efb728ddf00208b9b2b  1 3 5 25 29 50 51 52 66 67 72 73\n",
       "3  5ac115507997a2001e7c3617                       33 34 38 39\n",
       "4  5f53b84440c5be3bb873a9d3                                30"
      ]
     },
     "execution_count": 19,
     "metadata": {},
     "output_type": "execute_result"
    }
   ],
   "source": [
    "val_seen_topic_df.head()"
   ]
  },
  {
   "cell_type": "code",
   "execution_count": 20,
   "metadata": {},
   "outputs": [],
   "source": [
    "def compute_bought_item(df, col):\n",
    "    bought_records = df[col]\n",
    "    cnt = 0\n",
    "    for user_records in bought_records:\n",
    "        if type(user_records) == str:\n",
    "            user_records = user_records.split(' ')\n",
    "            cnt += len(user_records)\n",
    "    return cnt"
   ]
  },
  {
   "cell_type": "code",
   "execution_count": 26,
   "metadata": {},
   "outputs": [],
   "source": [
    "val_seen_topic_count = compute_bought_item(val_seen_topic_df, 'subgroup')\n",
    "val_unseen_topic_count = compute_bought_item(val_unseen_topic_df, 'subgroup')\n",
    "val_seen_course_count = compute_bought_item(val_seen_course_df, 'course_id')\n",
    "val_unseen_course_count = compute_bought_item(val_unseen_course_df, 'course_id')"
   ]
  },
  {
   "cell_type": "code",
   "execution_count": 27,
   "metadata": {},
   "outputs": [
    {
     "data": {
      "text/plain": [
       "(28500, 31036, 17817, 19618)"
      ]
     },
     "execution_count": 27,
     "metadata": {},
     "output_type": "execute_result"
    }
   ],
   "source": [
    "val_seen_topic_count, val_unseen_topic_count, val_seen_course_count, val_unseen_course_count"
   ]
  },
  {
   "cell_type": "code",
   "execution_count": 28,
   "metadata": {},
   "outputs": [],
   "source": [
    "train_course_count = compute_bought_item(train_df, 'course_id')\n",
    "train_topic_count = compute_bought_item(train_group_df, 'subgroup')"
   ]
  },
  {
   "cell_type": "code",
   "execution_count": null,
   "metadata": {},
   "outputs": [],
   "source": [
    "train_course_count, train_"
   ]
  }
 ],
 "metadata": {
  "kernelspec": {
   "display_name": "Python 3.8.15 ('adl_final')",
   "language": "python",
   "name": "python3"
  },
  "language_info": {
   "codemirror_mode": {
    "name": "ipython",
    "version": 3
   },
   "file_extension": ".py",
   "mimetype": "text/x-python",
   "name": "python",
   "nbconvert_exporter": "python",
   "pygments_lexer": "ipython3",
   "version": "3.8.15"
  },
  "orig_nbformat": 4,
  "vscode": {
   "interpreter": {
    "hash": "ddbe84b8b3ed712b164a7afcb60a90ff35fb7c6bf278ea210bca27b38500523e"
   }
  }
 },
 "nbformat": 4,
 "nbformat_minor": 2
}
