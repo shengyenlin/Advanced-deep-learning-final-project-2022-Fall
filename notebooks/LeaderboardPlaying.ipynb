{
 "cells": [
  {
   "cell_type": "code",
   "execution_count": 23,
   "metadata": {},
   "outputs": [],
   "source": [
    "import os\n",
    "import math\n",
    "import random\n",
    "import json\n",
    "from pathlib import Path\n",
    "\n",
    "import numpy as np\n",
    "import pandas as pd\n",
    "import matplotlib.pyplot as plt\n",
    "\n",
    "from preprocess import make_multiple_hard_labels\n",
    "from metrics import mapk"
   ]
  },
  {
   "cell_type": "code",
   "execution_count": 2,
   "metadata": {},
   "outputs": [],
   "source": [
    "DATA_ROOT = os.path.join(\n",
    "    Path(os.getcwd()).parent.absolute(), 'hahow', 'data'\n",
    ")\n",
    "\n",
    "user_csv_path = os.path.join(DATA_ROOT, 'users.csv')\n",
    "course_chapter_item_csv_path = os.path.join(DATA_ROOT, 'course_chapter_items.csv')\n",
    "courses_csv_path = os.path.join(DATA_ROOT, 'courses.csv')\n",
    "subgroup_csv_path = os.path.join(DATA_ROOT, 'subgroups.csv')\n",
    "train_group_csv_path = os.path.join(DATA_ROOT, 'train', 'train_group.csv')\n",
    "train_csv_path = os.path.join(DATA_ROOT, 'train', 'train.csv')\n",
    "\n",
    "user_df = pd.read_csv(user_csv_path)\n",
    "course_chapter_item_df = pd.read_csv(course_chapter_item_csv_path)\n",
    "courses_df = pd.read_csv(courses_csv_path)\n",
    "subgroup_df = pd.read_csv(subgroup_csv_path)\n",
    "train_group_df = pd.read_csv(train_group_csv_path)\n",
    "train_df = pd.read_csv(train_csv_path)"
   ]
  },
  {
   "cell_type": "code",
   "execution_count": 3,
   "metadata": {},
   "outputs": [],
   "source": [
    "val_seen_course_path = os.path.join(DATA_ROOT, 'val', 'val_seen.csv')\n",
    "val_unseen_course_path = os.path.join(DATA_ROOT, 'val', 'val_unseen.csv')\n",
    "test_seen_course_path = os.path.join(DATA_ROOT, 'test', 'test_seen.csv')\n",
    "test_unseen_course_path = os.path.join(DATA_ROOT, 'test', 'test_unseen.csv')\n",
    "\n",
    "val_seen_course_df = pd.read_csv(val_seen_course_path)\n",
    "val_unseen_course_df = pd.read_csv(val_unseen_course_path)\n",
    "test_seen_course_df = pd.read_csv(test_seen_course_path)\n",
    "test_unseen_course_df = pd.read_csv(test_unseen_course_path)"
   ]
  },
  {
   "cell_type": "code",
   "execution_count": 21,
   "metadata": {},
   "outputs": [],
   "source": [
    "gt_val_seen = val_seen_course_df['course_id'].tolist()\n",
    "gt_val_unseen = val_unseen_course_df['course_id'].tolist()"
   ]
  },
  {
   "cell_type": "code",
   "execution_count": 4,
   "metadata": {},
   "outputs": [],
   "source": [
    "OUT_ROOT = './leaderboard_playing'"
   ]
  },
  {
   "cell_type": "markdown",
   "metadata": {},
   "source": [
    "# Predict only unbought courses"
   ]
  },
  {
   "cell_type": "code",
   "execution_count": 9,
   "metadata": {},
   "outputs": [],
   "source": [
    "_, course_ids = make_multiple_hard_labels(train_df, 'course_id')\n",
    "course_ids = pd.Series(course_ids)"
   ]
  },
  {
   "cell_type": "code",
   "execution_count": 8,
   "metadata": {},
   "outputs": [
    {
     "name": "stdout",
     "output_type": "stream",
     "text": [
      "There are 64 unbought courses\n",
      "{'56e0e9fb4e3ef90900b7cff1', '60dd6d80638ed00aa99b5556', '61888f9bb259500007e2cb20', '5ff6aa28c5cbbcb694532eaa', '6168db780c0dd90006161f32', '60efd3a347b7d70006894784', '55ae66017b4d991000119959', '61a5d89b3b954c0007022c77', '61381a3f33a3960006df1eb3', '610814069871100007ab7b4f', '61b6c2bea7dfb10006498876', '6184ace6b2319400078a8dad', '607ceae6fa76bb60e8a556c8', '60c84de9eb75ca46e0c25e85', '60c1d33a8dd31844b56bfd54', '6083734d17b1e70d08fd3ca6', '6130753a26d20b0006d48dfe', '60e7f0598036260006b71683', '6107cd6c3cc7a0000689c1c6', '60ed88d6b89d2300069ee963', '6184efc3b2319400078aefe7', '61681f49fea517000686d9dc', '61056b63d46a000007a46af7', '568537d0e8ff9b20003cf504', '6136ed9fafdea00006bdd8ee', '6056f8ceab70de413d98e723', '6130495cd5d02a00071f2c3b', '611f7d91bd122100071f2926', '613c4d77323c7f000694dd08', '6135374d94b8350007f7fe43', '61666a458fc5c300073e6f60', '6125b83cdf147200070db995', '61b941f2e8990300069e4e9e', '61237ed5df69e30006dbfff7', '617a0a057bb91d0007a646d4', '61852baeb7fe1c0006800660', '5f94ee2d4100669cadf5d86f', '60bdbc454ee6592acad8e950', '60fcc2932b90ea00074c4a16', '60ed57916444da00061af44d', '6164fd2cc74856000619aa16', '611f5d074b76af0007c24d7e', '61152dc3ef211d00067ff487', '6039f9ad1f5b5b279b5183d5', '605ca63e3cd943ce48dc5daa', '6155cda6d425f500065f5c96', '60fe7a7e006b74000621ce1f', '60f5240430b73c00071c1388', '611dbe96be4b2d000699b345', '60b49206c0bb3056c3a6ee52', '60ee8d419b2ee60007c940cf', '61161afbbeafad00060b4503', '6191c002a20c140006edcfcd', '6156a77fdf426a0007cc5fe1', '61888e868f154b000781b45a', '60e2c36d2db6400007df9929', '5e68a440e612310028027e40', '5eb520a88e965359dd562d98', '6157d85471f0da00079a65b7', '612f7b671bf9240007a68ad4', '5fe6fe2c5a5ba942b377c5ec', '618c94c13a0b8d00073756e9', '58bfdaab5c4e6507007cdeca', '60e67da88f992a0006529dc6'}\n"
     ]
    }
   ],
   "source": [
    "all_course = courses_df['course_id'].tolist()\n",
    "unbought_courses = set(all_course) - set(course_ids)\n",
    "print(f\"There are {len(unbought_courses)} unbought courses\")\n",
    "print(unbought_courses)"
   ]
  },
  {
   "cell_type": "code",
   "execution_count": 17,
   "metadata": {},
   "outputs": [],
   "source": [
    "def generate_random_courses(len_list, len_sample=50):\n",
    "    out = [\n",
    "            random.sample(list(unbought_courses), len_sample) \\\n",
    "            for _ in range(len_list)\n",
    "        ]\n",
    "    return out\n",
    "\n",
    "def post_process_label_to_df(df, pred_list):\n",
    "    preds = [' '.join(\n",
    "            map(str, pred)\n",
    "            ) for pred in pred_list]\n",
    "    preds_df = pd.DataFrame(\n",
    "        {\n",
    "            'user_id': df['user_id'],\n",
    "            'course_id': preds\n",
    "        }\n",
    "    )\n",
    "    return preds_df"
   ]
  },
  {
   "cell_type": "code",
   "execution_count": 32,
   "metadata": {},
   "outputs": [
    {
     "name": "stdout",
     "output_type": "stream",
     "text": [
      "Valid set mapk, seen: 0.001536917395655182, unseen 0.0011067415513861029\n"
     ]
    }
   ],
   "source": [
    "val_seen_courses = generate_random_courses(val_seen_course_df.shape[0])\n",
    "val_unseen_courses = generate_random_courses(val_unseen_course_df.shape[0])\n",
    "mapk_seen = mapk(gt_val_seen, val_seen_courses, k=50)\n",
    "mapk_unseen = mapk(gt_val_unseen, val_unseen_courses, k=50)\n",
    "print(f\"Valid set mapk, seen: {mapk_seen}, unseen {mapk_unseen}\")"
   ]
  }
 ],
 "metadata": {
  "kernelspec": {
   "display_name": "Python 3.8.15 ('adl_final')",
   "language": "python",
   "name": "python3"
  },
  "language_info": {
   "codemirror_mode": {
    "name": "ipython",
    "version": 3
   },
   "file_extension": ".py",
   "mimetype": "text/x-python",
   "name": "python",
   "nbconvert_exporter": "python",
   "pygments_lexer": "ipython3",
   "version": "3.8.15"
  },
  "orig_nbformat": 4,
  "vscode": {
   "interpreter": {
    "hash": "ddbe84b8b3ed712b164a7afcb60a90ff35fb7c6bf278ea210bca27b38500523e"
   }
  }
 },
 "nbformat": 4,
 "nbformat_minor": 2
}
